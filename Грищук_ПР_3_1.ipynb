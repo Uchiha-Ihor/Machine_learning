{
  "nbformat": 4,
  "nbformat_minor": 0,
  "metadata": {
    "colab": {
      "provenance": []
    },
    "kernelspec": {
      "name": "python3",
      "display_name": "Python 3"
    },
    "language_info": {
      "name": "python"
    }
  },
  "cells": [
    {
      "cell_type": "markdown",
      "source": [
        "ПРАКТИЧНА РОБОТА 3\n",
        "\n",
        "---\n",
        "\n",
        "\n",
        "Вступ до машинного навчання. Елементи лінійної алгебри.\n",
        ">\n",
        "Варіант №7\n",
        ">\n",
        "Мій githab:https://github.com/Uchiha-Ihor/Machine_learning"
      ],
      "metadata": {
        "id": "rsUwbt1j7Kvi"
      }
    },
    {
      "cell_type": "markdown",
      "source": [
        "Завдання 1: Прочитайте CSV файл (використовуйте метод read_csv):"
      ],
      "metadata": {
        "id": "Vj5m1eqY-CtV"
      }
    },
    {
      "cell_type": "code",
      "source": [
        "from google.colab import files\n",
        "uploaded = files.upload()"
      ],
      "metadata": {
        "colab": {
          "base_uri": "https://localhost:8080/",
          "height": 73
        },
        "id": "osIZhfSp265t",
        "outputId": "e1b56d05-e1d6-466f-b17c-0db952128fd5"
      },
      "execution_count": null,
      "outputs": [
        {
          "output_type": "display_data",
          "data": {
            "text/plain": [
              "<IPython.core.display.HTML object>"
            ],
            "text/html": [
              "\n",
              "     <input type=\"file\" id=\"files-d2a48bf9-8a87-418e-96af-634ab76f97ce\" name=\"files[]\" multiple disabled\n",
              "        style=\"border:none\" />\n",
              "     <output id=\"result-d2a48bf9-8a87-418e-96af-634ab76f97ce\">\n",
              "      Upload widget is only available when the cell has been executed in the\n",
              "      current browser session. Please rerun this cell to enable.\n",
              "      </output>\n",
              "      <script>// Copyright 2017 Google LLC\n",
              "//\n",
              "// Licensed under the Apache License, Version 2.0 (the \"License\");\n",
              "// you may not use this file except in compliance with the License.\n",
              "// You may obtain a copy of the License at\n",
              "//\n",
              "//      http://www.apache.org/licenses/LICENSE-2.0\n",
              "//\n",
              "// Unless required by applicable law or agreed to in writing, software\n",
              "// distributed under the License is distributed on an \"AS IS\" BASIS,\n",
              "// WITHOUT WARRANTIES OR CONDITIONS OF ANY KIND, either express or implied.\n",
              "// See the License for the specific language governing permissions and\n",
              "// limitations under the License.\n",
              "\n",
              "/**\n",
              " * @fileoverview Helpers for google.colab Python module.\n",
              " */\n",
              "(function(scope) {\n",
              "function span(text, styleAttributes = {}) {\n",
              "  const element = document.createElement('span');\n",
              "  element.textContent = text;\n",
              "  for (const key of Object.keys(styleAttributes)) {\n",
              "    element.style[key] = styleAttributes[key];\n",
              "  }\n",
              "  return element;\n",
              "}\n",
              "\n",
              "// Max number of bytes which will be uploaded at a time.\n",
              "const MAX_PAYLOAD_SIZE = 100 * 1024;\n",
              "\n",
              "function _uploadFiles(inputId, outputId) {\n",
              "  const steps = uploadFilesStep(inputId, outputId);\n",
              "  const outputElement = document.getElementById(outputId);\n",
              "  // Cache steps on the outputElement to make it available for the next call\n",
              "  // to uploadFilesContinue from Python.\n",
              "  outputElement.steps = steps;\n",
              "\n",
              "  return _uploadFilesContinue(outputId);\n",
              "}\n",
              "\n",
              "// This is roughly an async generator (not supported in the browser yet),\n",
              "// where there are multiple asynchronous steps and the Python side is going\n",
              "// to poll for completion of each step.\n",
              "// This uses a Promise to block the python side on completion of each step,\n",
              "// then passes the result of the previous step as the input to the next step.\n",
              "function _uploadFilesContinue(outputId) {\n",
              "  const outputElement = document.getElementById(outputId);\n",
              "  const steps = outputElement.steps;\n",
              "\n",
              "  const next = steps.next(outputElement.lastPromiseValue);\n",
              "  return Promise.resolve(next.value.promise).then((value) => {\n",
              "    // Cache the last promise value to make it available to the next\n",
              "    // step of the generator.\n",
              "    outputElement.lastPromiseValue = value;\n",
              "    return next.value.response;\n",
              "  });\n",
              "}\n",
              "\n",
              "/**\n",
              " * Generator function which is called between each async step of the upload\n",
              " * process.\n",
              " * @param {string} inputId Element ID of the input file picker element.\n",
              " * @param {string} outputId Element ID of the output display.\n",
              " * @return {!Iterable<!Object>} Iterable of next steps.\n",
              " */\n",
              "function* uploadFilesStep(inputId, outputId) {\n",
              "  const inputElement = document.getElementById(inputId);\n",
              "  inputElement.disabled = false;\n",
              "\n",
              "  const outputElement = document.getElementById(outputId);\n",
              "  outputElement.innerHTML = '';\n",
              "\n",
              "  const pickedPromise = new Promise((resolve) => {\n",
              "    inputElement.addEventListener('change', (e) => {\n",
              "      resolve(e.target.files);\n",
              "    });\n",
              "  });\n",
              "\n",
              "  const cancel = document.createElement('button');\n",
              "  inputElement.parentElement.appendChild(cancel);\n",
              "  cancel.textContent = 'Cancel upload';\n",
              "  const cancelPromise = new Promise((resolve) => {\n",
              "    cancel.onclick = () => {\n",
              "      resolve(null);\n",
              "    };\n",
              "  });\n",
              "\n",
              "  // Wait for the user to pick the files.\n",
              "  const files = yield {\n",
              "    promise: Promise.race([pickedPromise, cancelPromise]),\n",
              "    response: {\n",
              "      action: 'starting',\n",
              "    }\n",
              "  };\n",
              "\n",
              "  cancel.remove();\n",
              "\n",
              "  // Disable the input element since further picks are not allowed.\n",
              "  inputElement.disabled = true;\n",
              "\n",
              "  if (!files) {\n",
              "    return {\n",
              "      response: {\n",
              "        action: 'complete',\n",
              "      }\n",
              "    };\n",
              "  }\n",
              "\n",
              "  for (const file of files) {\n",
              "    const li = document.createElement('li');\n",
              "    li.append(span(file.name, {fontWeight: 'bold'}));\n",
              "    li.append(span(\n",
              "        `(${file.type || 'n/a'}) - ${file.size} bytes, ` +\n",
              "        `last modified: ${\n",
              "            file.lastModifiedDate ? file.lastModifiedDate.toLocaleDateString() :\n",
              "                                    'n/a'} - `));\n",
              "    const percent = span('0% done');\n",
              "    li.appendChild(percent);\n",
              "\n",
              "    outputElement.appendChild(li);\n",
              "\n",
              "    const fileDataPromise = new Promise((resolve) => {\n",
              "      const reader = new FileReader();\n",
              "      reader.onload = (e) => {\n",
              "        resolve(e.target.result);\n",
              "      };\n",
              "      reader.readAsArrayBuffer(file);\n",
              "    });\n",
              "    // Wait for the data to be ready.\n",
              "    let fileData = yield {\n",
              "      promise: fileDataPromise,\n",
              "      response: {\n",
              "        action: 'continue',\n",
              "      }\n",
              "    };\n",
              "\n",
              "    // Use a chunked sending to avoid message size limits. See b/62115660.\n",
              "    let position = 0;\n",
              "    do {\n",
              "      const length = Math.min(fileData.byteLength - position, MAX_PAYLOAD_SIZE);\n",
              "      const chunk = new Uint8Array(fileData, position, length);\n",
              "      position += length;\n",
              "\n",
              "      const base64 = btoa(String.fromCharCode.apply(null, chunk));\n",
              "      yield {\n",
              "        response: {\n",
              "          action: 'append',\n",
              "          file: file.name,\n",
              "          data: base64,\n",
              "        },\n",
              "      };\n",
              "\n",
              "      let percentDone = fileData.byteLength === 0 ?\n",
              "          100 :\n",
              "          Math.round((position / fileData.byteLength) * 100);\n",
              "      percent.textContent = `${percentDone}% done`;\n",
              "\n",
              "    } while (position < fileData.byteLength);\n",
              "  }\n",
              "\n",
              "  // All done.\n",
              "  yield {\n",
              "    response: {\n",
              "      action: 'complete',\n",
              "    }\n",
              "  };\n",
              "}\n",
              "\n",
              "scope.google = scope.google || {};\n",
              "scope.google.colab = scope.google.colab || {};\n",
              "scope.google.colab._files = {\n",
              "  _uploadFiles,\n",
              "  _uploadFilesContinue,\n",
              "};\n",
              "})(self);\n",
              "</script> "
            ]
          },
          "metadata": {}
        },
        {
          "output_type": "stream",
          "name": "stdout",
          "text": [
            "Saving Global YouTube Statistics.csv to Global YouTube Statistics.csv\n"
          ]
        }
      ]
    },
    {
      "cell_type": "code",
      "source": [
        "import pandas as pd\n",
        "\n",
        "df = pd.read_csv('Global YouTube Statistics.csv', encoding='cp1251')\n",
        "\n",
        "print(df.head())\n"
      ],
      "metadata": {
        "colab": {
          "base_uri": "https://localhost:8080/"
        },
        "id": "nddFtBSc7WTZ",
        "outputId": "0e7d5071-0062-43ce-f1c1-898976077c80"
      },
      "execution_count": null,
      "outputs": [
        {
          "output_type": "stream",
          "name": "stdout",
          "text": [
            "   rank                    Youtuber  subscribers   video views  \\\n",
            "0     1                    T-Series    245000000  2.280000e+11   \n",
            "1     2              YouTube Movies    170000000  0.000000e+00   \n",
            "2     3                     MrBeast    166000000  2.836884e+10   \n",
            "3     4  Cocomelon - Nursery Rhymes    162000000  1.640000e+11   \n",
            "4     5                   SET India    159000000  1.480000e+11   \n",
            "\n",
            "           category                       Title  uploads        Country  \\\n",
            "0             Music                    T-Series    20082          India   \n",
            "1  Film & Animation               youtubemovies        1  United States   \n",
            "2     Entertainment                     MrBeast      741  United States   \n",
            "3         Education  Cocomelon - Nursery Rhymes      966  United States   \n",
            "4             Shows                   SET India   116536          India   \n",
            "\n",
            "  Abbreviation   channel_type  ...  subscribers_for_last_30_days  \\\n",
            "0           IN          Music  ...                     2000000.0   \n",
            "1           US          Games  ...                           NaN   \n",
            "2           US  Entertainment  ...                     8000000.0   \n",
            "3           US      Education  ...                     1000000.0   \n",
            "4           IN  Entertainment  ...                     1000000.0   \n",
            "\n",
            "   created_year  created_month  created_date  \\\n",
            "0        2006.0            Mar          13.0   \n",
            "1        2006.0            Mar           5.0   \n",
            "2        2012.0            Feb          20.0   \n",
            "3        2006.0            Sep           1.0   \n",
            "4        2006.0            Sep          20.0   \n",
            "\n",
            "   Gross tertiary education enrollment (%)    Population  Unemployment rate  \\\n",
            "0                                     28.1  1.366418e+09               5.36   \n",
            "1                                     88.2  3.282395e+08              14.70   \n",
            "2                                     88.2  3.282395e+08              14.70   \n",
            "3                                     88.2  3.282395e+08              14.70   \n",
            "4                                     28.1  1.366418e+09               5.36   \n",
            "\n",
            "   Urban_population   Latitude  Longitude  \n",
            "0       471031528.0  20.593684  78.962880  \n",
            "1       270663028.0  37.090240 -95.712891  \n",
            "2       270663028.0  37.090240 -95.712891  \n",
            "3       270663028.0  37.090240 -95.712891  \n",
            "4       471031528.0  20.593684  78.962880  \n",
            "\n",
            "[5 rows x 28 columns]\n"
          ]
        }
      ]
    },
    {
      "cell_type": "markdown",
      "source": [
        "Завдання 2: Виведіть перші п'ять рядків (використовується метод head):"
      ],
      "metadata": {
        "id": "dxhenQHu-KIL"
      }
    },
    {
      "cell_type": "code",
      "source": [
        "import pandas as pd\n",
        "\n",
        "df = pd.read_csv('Global YouTube Statistics.csv', encoding='cp1251')\n",
        "\n",
        "print(df.head(5))\n"
      ],
      "metadata": {
        "colab": {
          "base_uri": "https://localhost:8080/"
        },
        "id": "IxjlSRnW-Kn_",
        "outputId": "abf50045-68c3-4552-a167-a77a438696ee"
      },
      "execution_count": null,
      "outputs": [
        {
          "output_type": "stream",
          "name": "stdout",
          "text": [
            "   rank                    Youtuber  subscribers   video views  \\\n",
            "0     1                    T-Series    245000000  2.280000e+11   \n",
            "1     2              YouTube Movies    170000000  0.000000e+00   \n",
            "2     3                     MrBeast    166000000  2.836884e+10   \n",
            "3     4  Cocomelon - Nursery Rhymes    162000000  1.640000e+11   \n",
            "4     5                   SET India    159000000  1.480000e+11   \n",
            "\n",
            "           category                       Title  uploads        Country  \\\n",
            "0             Music                    T-Series    20082          India   \n",
            "1  Film & Animation               youtubemovies        1  United States   \n",
            "2     Entertainment                     MrBeast      741  United States   \n",
            "3         Education  Cocomelon - Nursery Rhymes      966  United States   \n",
            "4             Shows                   SET India   116536          India   \n",
            "\n",
            "  Abbreviation   channel_type  ...  subscribers_for_last_30_days  \\\n",
            "0           IN          Music  ...                     2000000.0   \n",
            "1           US          Games  ...                           NaN   \n",
            "2           US  Entertainment  ...                     8000000.0   \n",
            "3           US      Education  ...                     1000000.0   \n",
            "4           IN  Entertainment  ...                     1000000.0   \n",
            "\n",
            "   created_year  created_month  created_date  \\\n",
            "0        2006.0            Mar          13.0   \n",
            "1        2006.0            Mar           5.0   \n",
            "2        2012.0            Feb          20.0   \n",
            "3        2006.0            Sep           1.0   \n",
            "4        2006.0            Sep          20.0   \n",
            "\n",
            "   Gross tertiary education enrollment (%)    Population  Unemployment rate  \\\n",
            "0                                     28.1  1.366418e+09               5.36   \n",
            "1                                     88.2  3.282395e+08              14.70   \n",
            "2                                     88.2  3.282395e+08              14.70   \n",
            "3                                     88.2  3.282395e+08              14.70   \n",
            "4                                     28.1  1.366418e+09               5.36   \n",
            "\n",
            "   Urban_population   Latitude  Longitude  \n",
            "0       471031528.0  20.593684  78.962880  \n",
            "1       270663028.0  37.090240 -95.712891  \n",
            "2       270663028.0  37.090240 -95.712891  \n",
            "3       270663028.0  37.090240 -95.712891  \n",
            "4       471031528.0  20.593684  78.962880  \n",
            "\n",
            "[5 rows x 28 columns]\n"
          ]
        }
      ]
    },
    {
      "cell_type": "markdown",
      "source": [
        "Завдання 3: Виведіть розміри датасету (використовуйте метод shape):"
      ],
      "metadata": {
        "id": "kTE_Nz4n-LKO"
      }
    },
    {
      "cell_type": "code",
      "source": [
        "import pandas as pd\n",
        "\n",
        "df = pd.read_csv('Global YouTube Statistics.csv', encoding='cp1251')\n",
        "\n",
        "print(\"Перші п'ять рядків датасету:\")\n",
        "print(df.head(5))\n",
        "\n",
        "print(\"\\nРозмір датасету (кількість рядків, кількість стовпців):\")\n",
        "print(df.shape)"
      ],
      "metadata": {
        "colab": {
          "base_uri": "https://localhost:8080/"
        },
        "id": "goDkgAPY-LRo",
        "outputId": "db69022f-ad09-4c04-8523-b9821079104a"
      },
      "execution_count": null,
      "outputs": [
        {
          "output_type": "stream",
          "name": "stdout",
          "text": [
            "Перші п'ять рядків датасету:\n",
            "   rank                    Youtuber  subscribers   video views  \\\n",
            "0     1                    T-Series    245000000  2.280000e+11   \n",
            "1     2              YouTube Movies    170000000  0.000000e+00   \n",
            "2     3                     MrBeast    166000000  2.836884e+10   \n",
            "3     4  Cocomelon - Nursery Rhymes    162000000  1.640000e+11   \n",
            "4     5                   SET India    159000000  1.480000e+11   \n",
            "\n",
            "           category                       Title  uploads        Country  \\\n",
            "0             Music                    T-Series    20082          India   \n",
            "1  Film & Animation               youtubemovies        1  United States   \n",
            "2     Entertainment                     MrBeast      741  United States   \n",
            "3         Education  Cocomelon - Nursery Rhymes      966  United States   \n",
            "4             Shows                   SET India   116536          India   \n",
            "\n",
            "  Abbreviation   channel_type  ...  subscribers_for_last_30_days  \\\n",
            "0           IN          Music  ...                     2000000.0   \n",
            "1           US          Games  ...                           NaN   \n",
            "2           US  Entertainment  ...                     8000000.0   \n",
            "3           US      Education  ...                     1000000.0   \n",
            "4           IN  Entertainment  ...                     1000000.0   \n",
            "\n",
            "   created_year  created_month  created_date  \\\n",
            "0        2006.0            Mar          13.0   \n",
            "1        2006.0            Mar           5.0   \n",
            "2        2012.0            Feb          20.0   \n",
            "3        2006.0            Sep           1.0   \n",
            "4        2006.0            Sep          20.0   \n",
            "\n",
            "   Gross tertiary education enrollment (%)    Population  Unemployment rate  \\\n",
            "0                                     28.1  1.366418e+09               5.36   \n",
            "1                                     88.2  3.282395e+08              14.70   \n",
            "2                                     88.2  3.282395e+08              14.70   \n",
            "3                                     88.2  3.282395e+08              14.70   \n",
            "4                                     28.1  1.366418e+09               5.36   \n",
            "\n",
            "   Urban_population   Latitude  Longitude  \n",
            "0       471031528.0  20.593684  78.962880  \n",
            "1       270663028.0  37.090240 -95.712891  \n",
            "2       270663028.0  37.090240 -95.712891  \n",
            "3       270663028.0  37.090240 -95.712891  \n",
            "4       471031528.0  20.593684  78.962880  \n",
            "\n",
            "[5 rows x 28 columns]\n",
            "\n",
            "Розмір датасету (кількість рядків, кількість стовпців):\n",
            "(995, 28)\n"
          ]
        }
      ]
    },
    {
      "cell_type": "markdown",
      "source": [
        "Завдання 4: Перевірте, чи у всіх рядків вистачає даних: виведіть кількість пропусків  у кожному зі стовпців (використовуйте методи isna та sum).\n",
        "Якщо є пропуски, замінить їх на NaN, потім тип даних на числовий.\n"
      ],
      "metadata": {
        "id": "bz2yROcw-LXZ"
      }
    },
    {
      "cell_type": "code",
      "source": [
        "import pandas as pd\n",
        "import numpy as np\n",
        "\n",
        "df = pd.read_csv('Global YouTube Statistics.csv', encoding='cp1251')\n",
        "\n",
        "missing_values = df.isna().sum()\n",
        "print(\"Кількість пропусків у кожному стовпці:\")\n",
        "print(missing_values)\n",
        "\n",
        "df = df.replace('', np.nan)\n",
        "\n",
        "df = df.apply(pd.to_numeric, errors='ignore')\n",
        "\n",
        "print(\"\\nПерші п'ять рядків після заміни пропусків:\")\n",
        "print(df.head(5))"
      ],
      "metadata": {
        "colab": {
          "base_uri": "https://localhost:8080/"
        },
        "id": "EiXXzA34-LdF",
        "outputId": "8fafee11-41c3-4d1d-c077-a7c3e8a40bb3"
      },
      "execution_count": null,
      "outputs": [
        {
          "output_type": "stream",
          "name": "stdout",
          "text": [
            "Кількість пропусків у кожному стовпці:\n",
            "rank                                         0\n",
            "Youtuber                                     0\n",
            "subscribers                                  0\n",
            "video views                                  0\n",
            "category                                    46\n",
            "Title                                        0\n",
            "uploads                                      0\n",
            "Country                                    122\n",
            "Abbreviation                               122\n",
            "channel_type                                30\n",
            "video_views_rank                             1\n",
            "country_rank                               116\n",
            "channel_type_rank                           33\n",
            "video_views_for_the_last_30_days            56\n",
            "lowest_monthly_earnings                      0\n",
            "highest_monthly_earnings                     0\n",
            "lowest_yearly_earnings                       0\n",
            "highest_yearly_earnings                      0\n",
            "subscribers_for_last_30_days               337\n",
            "created_year                                 5\n",
            "created_month                                5\n",
            "created_date                                 5\n",
            "Gross tertiary education enrollment (%)    123\n",
            "Population                                 123\n",
            "Unemployment rate                          123\n",
            "Urban_population                           123\n",
            "Latitude                                   123\n",
            "Longitude                                  123\n",
            "dtype: int64\n",
            "\n",
            "Перші п'ять рядків після заміни пропусків:\n",
            "   rank                    Youtuber  subscribers   video views  \\\n",
            "0     1                    T-Series    245000000  2.280000e+11   \n",
            "1     2              YouTube Movies    170000000  0.000000e+00   \n",
            "2     3                     MrBeast    166000000  2.836884e+10   \n",
            "3     4  Cocomelon - Nursery Rhymes    162000000  1.640000e+11   \n",
            "4     5                   SET India    159000000  1.480000e+11   \n",
            "\n",
            "           category                       Title  uploads        Country  \\\n",
            "0             Music                    T-Series    20082          India   \n",
            "1  Film & Animation               youtubemovies        1  United States   \n",
            "2     Entertainment                     MrBeast      741  United States   \n",
            "3         Education  Cocomelon - Nursery Rhymes      966  United States   \n",
            "4             Shows                   SET India   116536          India   \n",
            "\n",
            "  Abbreviation   channel_type  ...  subscribers_for_last_30_days  \\\n",
            "0           IN          Music  ...                     2000000.0   \n",
            "1           US          Games  ...                           NaN   \n",
            "2           US  Entertainment  ...                     8000000.0   \n",
            "3           US      Education  ...                     1000000.0   \n",
            "4           IN  Entertainment  ...                     1000000.0   \n",
            "\n",
            "   created_year  created_month  created_date  \\\n",
            "0        2006.0            Mar          13.0   \n",
            "1        2006.0            Mar           5.0   \n",
            "2        2012.0            Feb          20.0   \n",
            "3        2006.0            Sep           1.0   \n",
            "4        2006.0            Sep          20.0   \n",
            "\n",
            "   Gross tertiary education enrollment (%)    Population  Unemployment rate  \\\n",
            "0                                     28.1  1.366418e+09               5.36   \n",
            "1                                     88.2  3.282395e+08              14.70   \n",
            "2                                     88.2  3.282395e+08              14.70   \n",
            "3                                     88.2  3.282395e+08              14.70   \n",
            "4                                     28.1  1.366418e+09               5.36   \n",
            "\n",
            "   Urban_population   Latitude  Longitude  \n",
            "0       471031528.0  20.593684  78.962880  \n",
            "1       270663028.0  37.090240 -95.712891  \n",
            "2       270663028.0  37.090240 -95.712891  \n",
            "3       270663028.0  37.090240 -95.712891  \n",
            "4       471031528.0  20.593684  78.962880  \n",
            "\n",
            "[5 rows x 28 columns]\n"
          ]
        }
      ]
    },
    {
      "cell_type": "markdown",
      "source": [
        "Завдання 5: Замініть комірки з пропущеними значенями на середні за стовпцем. І тип даних на float."
      ],
      "metadata": {
        "id": "LIz-oD62-Lio"
      }
    },
    {
      "cell_type": "code",
      "source": [
        "import pandas as pd\n",
        "import numpy as np\n",
        "\n",
        "df = pd.read_csv('Global YouTube Statistics.csv', encoding='cp1251')\n",
        "\n",
        "df = df.apply(lambda x: x.fillna(x.mean()) if x.dtype.kind in 'biufc' else x)\n",
        "\n",
        "df = df.astype(float)\n",
        "\n",
        "print(\"Перші п'ять рядків після заміни та перетворення типу даних:\")\n",
        "print(df.head(5))"
      ],
      "metadata": {
        "colab": {
          "base_uri": "https://localhost:8080/"
        },
        "id": "k_D5-0wn-LpU",
        "outputId": "793e3f7a-455f-4414-f4cf-9f51d2d568bb"
      },
      "execution_count": null,
      "outputs": [
        {
          "output_type": "stream",
          "name": "stdout",
          "text": [
            "Рік                                           object\n",
            "В національній валюті                         object\n",
            "В доларах США                                 object\n",
            "Кількість кг хліба[20] на середню зарплату    object\n",
            "Кількість БігМаків на середню зарплату        object\n",
            "dtype: object\n"
          ]
        }
      ]
    },
    {
      "cell_type": "markdown",
      "source": [
        "Завдання 6: Ще раз перевірте кількість пропусків."
      ],
      "metadata": {
        "id": "FS3kq6_5-Lvf"
      }
    },
    {
      "cell_type": "code",
      "source": [
        "import pandas as pd\n",
        "import numpy as np\n",
        "\n",
        "df = pd.read_csv('Global YouTube Statistics.csv', encoding='cp1251')\n",
        "\n",
        "df = df.apply(lambda x: x.fillna(x.mean()) if x.dtype.kind in 'biufc' else x)\n",
        "\n",
        "numeric_columns = df.select_dtypes(include=[np.number]).columns\n",
        "df[numeric_columns] = df[numeric_columns].astype(float)\n",
        "\n",
        "print(\"Перші п'ять рядків після заміни та перетворення типу даних:\")\n",
        "print(df.head(5))\n",
        "\n",
        "missing_values_after_fillna = df.isna().sum()\n",
        "print(\"\\nКількість пропусків після заміни та перетворення типу даних:\")\n",
        "print(missing_values_after_fillna)"
      ],
      "metadata": {
        "colab": {
          "base_uri": "https://localhost:8080/"
        },
        "id": "r8uYhGmb-L2V",
        "outputId": "c4485a00-677b-4415-e2b5-a775329999c8"
      },
      "execution_count": null,
      "outputs": [
        {
          "output_type": "stream",
          "name": "stdout",
          "text": [
            "Перші п'ять рядків після заміни та перетворення типу даних:\n",
            "   rank                    Youtuber  subscribers   video views  \\\n",
            "0   1.0                    T-Series  245000000.0  2.280000e+11   \n",
            "1   2.0              YouTube Movies  170000000.0  0.000000e+00   \n",
            "2   3.0                     MrBeast  166000000.0  2.836884e+10   \n",
            "3   4.0  Cocomelon - Nursery Rhymes  162000000.0  1.640000e+11   \n",
            "4   5.0                   SET India  159000000.0  1.480000e+11   \n",
            "\n",
            "           category                       Title   uploads        Country  \\\n",
            "0             Music                    T-Series   20082.0          India   \n",
            "1  Film & Animation               youtubemovies       1.0  United States   \n",
            "2     Entertainment                     MrBeast     741.0  United States   \n",
            "3         Education  Cocomelon - Nursery Rhymes     966.0  United States   \n",
            "4             Shows                   SET India  116536.0          India   \n",
            "\n",
            "  Abbreviation   channel_type  ...  subscribers_for_last_30_days  \\\n",
            "0           IN          Music  ...                  2.000000e+06   \n",
            "1           US          Games  ...                  3.490791e+05   \n",
            "2           US  Entertainment  ...                  8.000000e+06   \n",
            "3           US      Education  ...                  1.000000e+06   \n",
            "4           IN  Entertainment  ...                  1.000000e+06   \n",
            "\n",
            "   created_year  created_month  created_date  \\\n",
            "0        2006.0            Mar          13.0   \n",
            "1        2006.0            Mar           5.0   \n",
            "2        2012.0            Feb          20.0   \n",
            "3        2006.0            Sep           1.0   \n",
            "4        2006.0            Sep          20.0   \n",
            "\n",
            "   Gross tertiary education enrollment (%)    Population  Unemployment rate  \\\n",
            "0                                     28.1  1.366418e+09               5.36   \n",
            "1                                     88.2  3.282395e+08              14.70   \n",
            "2                                     88.2  3.282395e+08              14.70   \n",
            "3                                     88.2  3.282395e+08              14.70   \n",
            "4                                     28.1  1.366418e+09               5.36   \n",
            "\n",
            "   Urban_population   Latitude  Longitude  \n",
            "0       471031528.0  20.593684  78.962880  \n",
            "1       270663028.0  37.090240 -95.712891  \n",
            "2       270663028.0  37.090240 -95.712891  \n",
            "3       270663028.0  37.090240 -95.712891  \n",
            "4       471031528.0  20.593684  78.962880  \n",
            "\n",
            "[5 rows x 28 columns]\n",
            "\n",
            "Кількість пропусків після заміни та перетворення типу даних:\n",
            "rank                                         0\n",
            "Youtuber                                     0\n",
            "subscribers                                  0\n",
            "video views                                  0\n",
            "category                                    46\n",
            "Title                                        0\n",
            "uploads                                      0\n",
            "Country                                    122\n",
            "Abbreviation                               122\n",
            "channel_type                                30\n",
            "video_views_rank                             0\n",
            "country_rank                                 0\n",
            "channel_type_rank                            0\n",
            "video_views_for_the_last_30_days             0\n",
            "lowest_monthly_earnings                      0\n",
            "highest_monthly_earnings                     0\n",
            "lowest_yearly_earnings                       0\n",
            "highest_yearly_earnings                      0\n",
            "subscribers_for_last_30_days                 0\n",
            "created_year                                 0\n",
            "created_month                                5\n",
            "created_date                                 0\n",
            "Gross tertiary education enrollment (%)      0\n",
            "Population                                   0\n",
            "Unemployment rate                            0\n",
            "Urban_population                             0\n",
            "Latitude                                     0\n",
            "Longitude                                    0\n",
            "dtype: int64\n"
          ]
        }
      ]
    },
    {
      "cell_type": "markdown",
      "source": [
        "Завдання 7: Перевірте, скільки унікальних країн представлено у колонці \"Country\""
      ],
      "metadata": {
        "id": "rEuWZ5dS-L8P"
      }
    },
    {
      "cell_type": "code",
      "source": [
        "import pandas as pd\n",
        "\n",
        "df = pd.read_csv('Global YouTube Statistics.csv', encoding='cp1251')\n",
        "\n",
        "unique_countries_count = df['Country'].nunique()\n",
        "\n",
        "print(f\"Кількість унікальних країн: {unique_countries_count}\")"
      ],
      "metadata": {
        "colab": {
          "base_uri": "https://localhost:8080/"
        },
        "id": "s8xij69T-MDO",
        "outputId": "1b1b0926-8f41-4925-f65e-48474ae5ab7f"
      },
      "execution_count": null,
      "outputs": [
        {
          "output_type": "stream",
          "name": "stdout",
          "text": [
            "Кількість унікальних країн: 49\n"
          ]
        }
      ]
    },
    {
      "cell_type": "markdown",
      "source": [
        "Завдання 8: Побудуйте діаграму розподілу переглядів (використовуйте kind='hist'):"
      ],
      "metadata": {
        "id": "Zu0PKFJd-MJJ"
      }
    },
    {
      "cell_type": "code",
      "source": [
        "import pandas as pd\n",
        "import matplotlib.pyplot as plt\n",
        "\n",
        "df = pd.read_csv('Global YouTube Statistics.csv', encoding='cp1251')\n",
        "\n",
        "plt.figure(figsize=(10, 6))\n",
        "plt.hist(df['video views'], bins=20, edgecolor='k', alpha=0.75)\n",
        "plt.title('Розподіл переглядів')\n",
        "plt.xlabel('Перегляди')\n",
        "plt.ylabel('Кількість')\n",
        "plt.grid(True)\n",
        "plt.show()"
      ],
      "metadata": {
        "colab": {
          "base_uri": "https://localhost:8080/",
          "height": 564
        },
        "id": "7R7fn17U-MQY",
        "outputId": "5f205983-a1a5-4f0b-faf4-e415cc8f888b"
      },
      "execution_count": null,
      "outputs": [
        {
          "output_type": "display_data",
          "data": {
            "text/plain": [
              "<Figure size 1000x600 with 1 Axes>"
            ],
            "image/png": "[encoded data removed]"
          },
          "metadata": {}
        }
      ]
    },
    {
      "cell_type": "markdown",
      "source": [
        "Завдання 9: Визначте максимальну, мінімальну, середню кількість переглядів (використовуйте методи max, min, mean)"
      ],
      "metadata": {
        "id": "s9oCz6iZ-MV3"
      }
    },
    {
      "cell_type": "code",
      "source": [
        "df = pd.read_csv('Global YouTube Statistics.csv', encoding='cp1251')\n",
        "\n",
        "max_views = df['video views'].max()\n",
        "\n",
        "min_views = df['video views'].min()\n",
        "\n",
        "mean_views = df['video views'].mean()\n",
        "\n",
        "print(f\"Максимальна кількість переглядів: {max_views}\")\n",
        "print(f\"Мінімальна кількість переглядів: {min_views}\")\n",
        "print(f\"Середня кількість переглядів: {mean_views}\")"
      ],
      "metadata": {
        "colab": {
          "base_uri": "https://localhost:8080/"
        },
        "id": "yKPXuEJO-Mb5",
        "outputId": "60df9f97-237d-447c-b56f-8e08b7f73e95"
      },
      "execution_count": null,
      "outputs": [
        {
          "output_type": "stream",
          "name": "stdout",
          "text": [
            "Максимальна кількість переглядів: 228000000000.0\n",
            "Мінімальна кількість переглядів: 0.0\n",
            "Середня кількість переглядів: 11039537052.03819\n"
          ]
        }
      ]
    },
    {
      "cell_type": "markdown",
      "source": [
        "Завдання 10: Знайдіть країну, де найбільше відео було завантажено на YouTube"
      ],
      "metadata": {
        "id": "TSmZjq0a-MhQ"
      }
    },
    {
      "cell_type": "code",
      "source": [
        "df = pd.read_csv('Global YouTube Statistics.csv', encoding='cp1251')\n",
        "\n",
        "country_video_counts = df['Country'].value_counts()\n",
        "\n",
        "most_videos_country = country_video_counts.idxmax()\n",
        "\n",
        "print(f\"Країна з найбільшою кількістю відео на YouTube: {most_videos_country}\")"
      ],
      "metadata": {
        "colab": {
          "base_uri": "https://localhost:8080/"
        },
        "id": "o8QLvKXF-Mnk",
        "outputId": "ad296b8e-fa36-4d70-dd2d-8313e09a4ff9"
      },
      "execution_count": null,
      "outputs": [
        {
          "output_type": "stream",
          "name": "stdout",
          "text": [
            "Країна з найбільшою кількістю відео на YouTube: United States\n"
          ]
        }
      ]
    },
    {
      "cell_type": "markdown",
      "source": [
        "Завдання 11: Знайдіть відео (виведіть його назву) з найбільшою та найменшою кількістю завантажень uploads."
      ],
      "metadata": {
        "id": "AGyKiCRt-MtC"
      }
    },
    {
      "cell_type": "code",
      "source": [
        "df = pd.read_csv('Global YouTube Statistics.csv', encoding='cp1251')\n",
        "\n",
        "max_uploads_index = df['uploads'].idxmax()\n",
        "\n",
        "min_uploads_index = df['uploads'].idxmin()\n",
        "\n",
        "video_with_most_uploads = df.loc[max_uploads_index, 'Title']\n",
        "video_with_least_uploads = df.loc[min_uploads_index, 'Title']\n",
        "\n",
        "print(f\"Відео з найбільшою кількістю завантажень: {video_with_most_uploads}\")\n",
        "print(f\"Відео з найменшою кількістю завантажень: {video_with_least_uploads}\")"
      ],
      "metadata": {
        "colab": {
          "base_uri": "https://localhost:8080/"
        },
        "id": "9a9PugmX-Mzv",
        "outputId": "f9bff8a1-5f9e-4828-dea8-cc51d637c1a1"
      },
      "execution_count": null,
      "outputs": [
        {
          "output_type": "stream",
          "name": "stdout",
          "text": [
            "Відео з найбільшою кількістю завантажень: ABP NEWS\n",
            "Відео з найменшою кількістю завантажень: Music\n"
          ]
        }
      ]
    }
  ]
}