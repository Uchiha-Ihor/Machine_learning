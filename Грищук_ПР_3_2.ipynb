{
  "nbformat": 4,
  "nbformat_minor": 0,
  "metadata": {
    "colab": {
      "provenance": [],
      "toc_visible": true
    },
    "kernelspec": {
      "name": "python3",
      "display_name": "Python 3"
    },
    "language_info": {
      "name": "python"
    }
  },
  "cells": [
    {
      "cell_type": "markdown",
      "source": [
        "ПРАКТИЧНА РОБОТА 3\n",
        "\n",
        "---\n",
        "\n",
        "\n",
        "Вступ до машинного навчання. Елементи лінійної алгебри.\n",
        ">\n",
        "Варіант №7\n",
        ">\n",
        "Мій githab:https://github.com/Uchiha-Ihor/Machine_learning"
      ],
      "metadata": {
        "id": "rsUwbt1j7Kvi"
      }
    },
    {
      "cell_type": "markdown",
      "source": [
        "Завдання 1: Прочитайте CSV файл (використовуйте метод read_csv):"
      ],
      "metadata": {
        "id": "Vj5m1eqY-CtV"
      }
    },
    {
      "cell_type": "code",
      "source": [
        "from google.colab import files\n",
        "uploaded = files.upload()"
      ],
      "metadata": {
        "colab": {
          "base_uri": "https://localhost:8080/",
          "height": 73
        },
        "id": "osIZhfSp265t",
        "outputId": "d8cbb1a6-8e70-40d0-cc3d-558fe8539a93"
      },
      "execution_count": 24,
      "outputs": [
        {
          "output_type": "display_data",
          "data": {
            "text/plain": [
              "<IPython.core.display.HTML object>"
            ],
            "text/html": [
              "\n",
              "     <input type=\"file\" id=\"files-06de0aff-fd9b-44d0-864a-177bfef16e5d\" name=\"files[]\" multiple disabled\n",
              "        style=\"border:none\" />\n",
              "     <output id=\"result-06de0aff-fd9b-44d0-864a-177bfef16e5d\">\n",
              "      Upload widget is only available when the cell has been executed in the\n",
              "      current browser session. Please rerun this cell to enable.\n",
              "      </output>\n",
              "      <script>// Copyright 2017 Google LLC\n",
              "//\n",
              "// Licensed under the Apache License, Version 2.0 (the \"License\");\n",
              "// you may not use this file except in compliance with the License.\n",
              "// You may obtain a copy of the License at\n",
              "//\n",
              "//      http://www.apache.org/licenses/LICENSE-2.0\n",
              "//\n",
              "// Unless required by applicable law or agreed to in writing, software\n",
              "// distributed under the License is distributed on an \"AS IS\" BASIS,\n",
              "// WITHOUT WARRANTIES OR CONDITIONS OF ANY KIND, either express or implied.\n",
              "// See the License for the specific language governing permissions and\n",
              "// limitations under the License.\n",
              "\n",
              "/**\n",
              " * @fileoverview Helpers for google.colab Python module.\n",
              " */\n",
              "(function(scope) {\n",
              "function span(text, styleAttributes = {}) {\n",
              "  const element = document.createElement('span');\n",
              "  element.textContent = text;\n",
              "  for (const key of Object.keys(styleAttributes)) {\n",
              "    element.style[key] = styleAttributes[key];\n",
              "  }\n",
              "  return element;\n",
              "}\n",
              "\n",
              "// Max number of bytes which will be uploaded at a time.\n",
              "const MAX_PAYLOAD_SIZE = 100 * 1024;\n",
              "\n",
              "function _uploadFiles(inputId, outputId) {\n",
              "  const steps = uploadFilesStep(inputId, outputId);\n",
              "  const outputElement = document.getElementById(outputId);\n",
              "  // Cache steps on the outputElement to make it available for the next call\n",
              "  // to uploadFilesContinue from Python.\n",
              "  outputElement.steps = steps;\n",
              "\n",
              "  return _uploadFilesContinue(outputId);\n",
              "}\n",
              "\n",
              "// This is roughly an async generator (not supported in the browser yet),\n",
              "// where there are multiple asynchronous steps and the Python side is going\n",
              "// to poll for completion of each step.\n",
              "// This uses a Promise to block the python side on completion of each step,\n",
              "// then passes the result of the previous step as the input to the next step.\n",
              "function _uploadFilesContinue(outputId) {\n",
              "  const outputElement = document.getElementById(outputId);\n",
              "  const steps = outputElement.steps;\n",
              "\n",
              "  const next = steps.next(outputElement.lastPromiseValue);\n",
              "  return Promise.resolve(next.value.promise).then((value) => {\n",
              "    // Cache the last promise value to make it available to the next\n",
              "    // step of the generator.\n",
              "    outputElement.lastPromiseValue = value;\n",
              "    return next.value.response;\n",
              "  });\n",
              "}\n",
              "\n",
              "/**\n",
              " * Generator function which is called between each async step of the upload\n",
              " * process.\n",
              " * @param {string} inputId Element ID of the input file picker element.\n",
              " * @param {string} outputId Element ID of the output display.\n",
              " * @return {!Iterable<!Object>} Iterable of next steps.\n",
              " */\n",
              "function* uploadFilesStep(inputId, outputId) {\n",
              "  const inputElement = document.getElementById(inputId);\n",
              "  inputElement.disabled = false;\n",
              "\n",
              "  const outputElement = document.getElementById(outputId);\n",
              "  outputElement.innerHTML = '';\n",
              "\n",
              "  const pickedPromise = new Promise((resolve) => {\n",
              "    inputElement.addEventListener('change', (e) => {\n",
              "      resolve(e.target.files);\n",
              "    });\n",
              "  });\n",
              "\n",
              "  const cancel = document.createElement('button');\n",
              "  inputElement.parentElement.appendChild(cancel);\n",
              "  cancel.textContent = 'Cancel upload';\n",
              "  const cancelPromise = new Promise((resolve) => {\n",
              "    cancel.onclick = () => {\n",
              "      resolve(null);\n",
              "    };\n",
              "  });\n",
              "\n",
              "  // Wait for the user to pick the files.\n",
              "  const files = yield {\n",
              "    promise: Promise.race([pickedPromise, cancelPromise]),\n",
              "    response: {\n",
              "      action: 'starting',\n",
              "    }\n",
              "  };\n",
              "\n",
              "  cancel.remove();\n",
              "\n",
              "  // Disable the input element since further picks are not allowed.\n",
              "  inputElement.disabled = true;\n",
              "\n",
              "  if (!files) {\n",
              "    return {\n",
              "      response: {\n",
              "        action: 'complete',\n",
              "      }\n",
              "    };\n",
              "  }\n",
              "\n",
              "  for (const file of files) {\n",
              "    const li = document.createElement('li');\n",
              "    li.append(span(file.name, {fontWeight: 'bold'}));\n",
              "    li.append(span(\n",
              "        `(${file.type || 'n/a'}) - ${file.size} bytes, ` +\n",
              "        `last modified: ${\n",
              "            file.lastModifiedDate ? file.lastModifiedDate.toLocaleDateString() :\n",
              "                                    'n/a'} - `));\n",
              "    const percent = span('0% done');\n",
              "    li.appendChild(percent);\n",
              "\n",
              "    outputElement.appendChild(li);\n",
              "\n",
              "    const fileDataPromise = new Promise((resolve) => {\n",
              "      const reader = new FileReader();\n",
              "      reader.onload = (e) => {\n",
              "        resolve(e.target.result);\n",
              "      };\n",
              "      reader.readAsArrayBuffer(file);\n",
              "    });\n",
              "    // Wait for the data to be ready.\n",
              "    let fileData = yield {\n",
              "      promise: fileDataPromise,\n",
              "      response: {\n",
              "        action: 'continue',\n",
              "      }\n",
              "    };\n",
              "\n",
              "    // Use a chunked sending to avoid message size limits. See b/62115660.\n",
              "    let position = 0;\n",
              "    do {\n",
              "      const length = Math.min(fileData.byteLength - position, MAX_PAYLOAD_SIZE);\n",
              "      const chunk = new Uint8Array(fileData, position, length);\n",
              "      position += length;\n",
              "\n",
              "      const base64 = btoa(String.fromCharCode.apply(null, chunk));\n",
              "      yield {\n",
              "        response: {\n",
              "          action: 'append',\n",
              "          file: file.name,\n",
              "          data: base64,\n",
              "        },\n",
              "      };\n",
              "\n",
              "      let percentDone = fileData.byteLength === 0 ?\n",
              "          100 :\n",
              "          Math.round((position / fileData.byteLength) * 100);\n",
              "      percent.textContent = `${percentDone}% done`;\n",
              "\n",
              "    } while (position < fileData.byteLength);\n",
              "  }\n",
              "\n",
              "  // All done.\n",
              "  yield {\n",
              "    response: {\n",
              "      action: 'complete',\n",
              "    }\n",
              "  };\n",
              "}\n",
              "\n",
              "scope.google = scope.google || {};\n",
              "scope.google.colab = scope.google.colab || {};\n",
              "scope.google.colab._files = {\n",
              "  _uploadFiles,\n",
              "  _uploadFilesContinue,\n",
              "};\n",
              "})(self);\n",
              "</script> "
            ]
          },
          "metadata": {}
        },
        {
          "output_type": "stream",
          "name": "stdout",
          "text": [
            "Saving bestsellers with categories.csv to bestsellers with categories.csv\n"
          ]
        }
      ]
    },
    {
      "cell_type": "code",
      "source": [
        "import pandas as pd\n",
        "\n",
        "df = pd.read_csv('bestsellers with categories.csv')\n",
        "\n",
        "print(df.head())\n"
      ],
      "metadata": {
        "colab": {
          "base_uri": "https://localhost:8080/"
        },
        "id": "nddFtBSc7WTZ",
        "outputId": "f15fc0f0-9445-4a9a-d793-735f012d9784"
      },
      "execution_count": 25,
      "outputs": [
        {
          "output_type": "stream",
          "name": "stdout",
          "text": [
            "                                                Name  \\\n",
            "0                      10-Day Green Smoothie Cleanse   \n",
            "1                                  11/22/63: A Novel   \n",
            "2            12 Rules for Life: An Antidote to Chaos   \n",
            "3                             1984 (Signet Classics)   \n",
            "4  5,000 Awesome Facts (About Everything!) (Natio...   \n",
            "\n",
            "                     Author  User Rating  Reviews  Price  Year        Genre  \n",
            "0                  JJ Smith          4.7    17350      8  2016  Non Fiction  \n",
            "1              Stephen King          4.6     2052     22  2011      Fiction  \n",
            "2        Jordan B. Peterson          4.7    18979     15  2018  Non Fiction  \n",
            "3             George Orwell          4.7    21424      6  2017      Fiction  \n",
            "4  National Geographic Kids          4.8     7665     12  2019  Non Fiction  \n"
          ]
        }
      ]
    },
    {
      "cell_type": "markdown",
      "source": [
        "Завдання 2: Виведіть перші 10 рядків (метод head)"
      ],
      "metadata": {
        "id": "dxhenQHu-KIL"
      }
    },
    {
      "cell_type": "code",
      "source": [
        "import pandas as pd\n",
        "\n",
        "df = pd.read_csv('bestsellers with categories.csv')\n",
        "\n",
        "print(df.head(10))\n",
        "\n"
      ],
      "metadata": {
        "colab": {
          "base_uri": "https://localhost:8080/"
        },
        "id": "IxjlSRnW-Kn_",
        "outputId": "9f3bb96f-8985-4b08-e98f-d50968c27142"
      },
      "execution_count": 26,
      "outputs": [
        {
          "output_type": "stream",
          "name": "stdout",
          "text": [
            "                                                Name  \\\n",
            "0                      10-Day Green Smoothie Cleanse   \n",
            "1                                  11/22/63: A Novel   \n",
            "2            12 Rules for Life: An Antidote to Chaos   \n",
            "3                             1984 (Signet Classics)   \n",
            "4  5,000 Awesome Facts (About Everything!) (Natio...   \n",
            "5      A Dance with Dragons (A Song of Ice and Fire)   \n",
            "6  A Game of Thrones / A Clash of Kings / A Storm...   \n",
            "7                     A Gentleman in Moscow: A Novel   \n",
            "8      A Higher Loyalty: Truth, Lies, and Leadership   \n",
            "9                          A Man Called Ove: A Novel   \n",
            "\n",
            "                     Author  User Rating  Reviews  Price  Year        Genre  \n",
            "0                  JJ Smith          4.7    17350      8  2016  Non Fiction  \n",
            "1              Stephen King          4.6     2052     22  2011      Fiction  \n",
            "2        Jordan B. Peterson          4.7    18979     15  2018  Non Fiction  \n",
            "3             George Orwell          4.7    21424      6  2017      Fiction  \n",
            "4  National Geographic Kids          4.8     7665     12  2019  Non Fiction  \n",
            "5       George R. R. Martin          4.4    12643     11  2011      Fiction  \n",
            "6       George R. R. Martin          4.7    19735     30  2014      Fiction  \n",
            "7               Amor Towles          4.7    19699     15  2017      Fiction  \n",
            "8               James Comey          4.7     5983      3  2018  Non Fiction  \n",
            "9           Fredrik Backman          4.6    23848      8  2016      Fiction  \n"
          ]
        }
      ]
    },
    {
      "cell_type": "markdown",
      "source": [
        "Завдання 3: Виведіть розміри датасету (метод shape).\n",
        "Питання: Про скільки книг зберігає дані датасет?\n",
        "Для кожної з книг доступні 7 колонок.\n",
        "Name - назва книги\n",
        "Author - автор\n",
        "User Rating - рейтинг (за 5-бальною шкалою)\n",
        "Reviews - кількість відгуків\n",
        "Price - ціна (у доларах станом на 2020 рік)\n",
        "Year - рік, коли книга потрапила до рейтингу Топ-50\n",
        "Genre - жанр\n",
        "\n"
      ],
      "metadata": {
        "id": "kTE_Nz4n-LKO"
      }
    },
    {
      "cell_type": "code",
      "source": [
        "shape = df.shape\n",
        "\n",
        "num_books, num_columns = shape\n",
        "\n",
        "print(f\"Кількість книг у датасеті: {num_books}\")\n",
        "print(f\"Кількість колонок у датасеті: {num_columns}\")"
      ],
      "metadata": {
        "colab": {
          "base_uri": "https://localhost:8080/"
        },
        "id": "goDkgAPY-LRo",
        "outputId": "085f979d-2e4e-4ce9-ed98-3cb0b63204af"
      },
      "execution_count": 27,
      "outputs": [
        {
          "output_type": "stream",
          "name": "stdout",
          "text": [
            "Кількість книг у датасеті: 550\n",
            "Кількість колонок у датасеті: 7\n"
          ]
        }
      ]
    },
    {
      "cell_type": "markdown",
      "source": [
        "Завдання 4:\n",
        "Змініть назви всіх колонок: назва з маленької букви, без пробілів через підкреслення.\n",
        "df.columns = ['name', 'author', 'user_rating', 'reviews', 'price', 'year', 'genre']\n",
        "\n"
      ],
      "metadata": {
        "id": "bz2yROcw-LXZ"
      }
    },
    {
      "cell_type": "code",
      "source": [
        "import pandas as pd\n",
        "\n",
        "df = pd.read_csv('bestsellers with categories.csv')\n",
        "\n",
        "df.columns = ['name', 'author', 'user_rating', 'reviews', 'price', 'year', 'genre']\n",
        "\n",
        "print(df.head())"
      ],
      "metadata": {
        "colab": {
          "base_uri": "https://localhost:8080/"
        },
        "id": "EiXXzA34-LdF",
        "outputId": "66518310-8a4a-493d-bfe9-83ad4ea6e83f"
      },
      "execution_count": 28,
      "outputs": [
        {
          "output_type": "stream",
          "name": "stdout",
          "text": [
            "                                                name  \\\n",
            "0                      10-Day Green Smoothie Cleanse   \n",
            "1                                  11/22/63: A Novel   \n",
            "2            12 Rules for Life: An Antidote to Chaos   \n",
            "3                             1984 (Signet Classics)   \n",
            "4  5,000 Awesome Facts (About Everything!) (Natio...   \n",
            "\n",
            "                     author  user_rating  reviews  price  year        genre  \n",
            "0                  JJ Smith          4.7    17350      8  2016  Non Fiction  \n",
            "1              Stephen King          4.6     2052     22  2011      Fiction  \n",
            "2        Jordan B. Peterson          4.7    18979     15  2018  Non Fiction  \n",
            "3             George Orwell          4.7    21424      6  2017      Fiction  \n",
            "4  National Geographic Kids          4.8     7665     12  2019  Non Fiction  \n"
          ]
        }
      ]
    },
    {
      "cell_type": "markdown",
      "source": [
        "Завдання 5: Вивести кількість пропусків у кожному стовпчику.\n",
        "Питання : Чи є в якихось змінних пропуски? (Так / ні)\n"
      ],
      "metadata": {
        "id": "LIz-oD62-Lio"
      }
    },
    {
      "cell_type": "code",
      "source": [
        "import pandas as pd\n",
        "\n",
        "df = pd.read_csv('bestsellers with categories.csv')\n",
        "\n",
        "missing_values = df.isna().sum()\n",
        "\n",
        "any_missing = any(missing_values > 0)\n",
        "\n",
        "print(\"Кількість пропусків у кожному стовпці:\")\n",
        "print(missing_values)\n",
        "print(\"\\nЧи є в якихось змінних пропуски? (Так / Ні):\", \"Так\" if any_missing else \"Ні\")"
      ],
      "metadata": {
        "colab": {
          "base_uri": "https://localhost:8080/"
        },
        "id": "k_D5-0wn-LpU",
        "outputId": "28eac31a-f56f-405e-fce1-48f200c06d98"
      },
      "execution_count": 29,
      "outputs": [
        {
          "output_type": "stream",
          "name": "stdout",
          "text": [
            "Кількість пропусків у кожному стовпці:\n",
            "Name           0\n",
            "Author         0\n",
            "User Rating    0\n",
            "Reviews        0\n",
            "Price          0\n",
            "Year           0\n",
            "Genre          0\n",
            "dtype: int64\n",
            "\n",
            "Чи є в якихось змінних пропуски? (Так / Ні): Ні\n"
          ]
        }
      ]
    },
    {
      "cell_type": "markdown",
      "source": [
        "Завдання 6: За допомогою методу unique  перевірте. Які є унікальні жанри в стовпці genre\n",
        "Питання : Які є унікальні жанри?\n"
      ],
      "metadata": {
        "id": "FS3kq6_5-Lvf"
      }
    },
    {
      "cell_type": "code",
      "source": [
        "import pandas as pd\n",
        "\n",
        "df = pd.read_csv('bestsellers with categories.csv')\n",
        "\n",
        "unique_genres = df['Genre'].unique()\n",
        "\n",
        "print(\"Унікальні жанри:\")\n",
        "for genre in unique_genres:\n",
        "    print(genre)"
      ],
      "metadata": {
        "colab": {
          "base_uri": "https://localhost:8080/"
        },
        "id": "r8uYhGmb-L2V",
        "outputId": "1deb4f15-6565-41c3-84ec-10f6be2df800"
      },
      "execution_count": 33,
      "outputs": [
        {
          "output_type": "stream",
          "name": "stdout",
          "text": [
            "Унікальні жанри:\n",
            "Non Fiction\n",
            "Fiction\n"
          ]
        }
      ]
    },
    {
      "cell_type": "markdown",
      "source": [
        "Завдання 7: Визначте максимальну, мінімальну, медіанну ціну за допомогою методів  max, min, mean, median\n",
        "Питання: Максимальна ціна?\n",
        "Питання: Мінімальна ціна?\n",
        "Питання: Середня ціна?\n",
        "Питання: Медіанна ціна?\n",
        "\n"
      ],
      "metadata": {
        "id": "rEuWZ5dS-L8P"
      }
    },
    {
      "cell_type": "code",
      "source": [
        "import pandas as pd\n",
        "\n",
        "df = pd.read_csv('bestsellers with categories.csv')\n",
        "\n",
        "max_price = df['Price'].max()\n",
        "\n",
        "min_price = df['Price'].min()\n",
        "\n",
        "mean_price = df['Price'].mean()\n",
        "\n",
        "median_price = df['Price'].median()\n",
        "\n",
        "print(f\"Максимальна ціна: {max_price}\")\n",
        "print(f\"Мінімальна ціна: {min_price}\")\n",
        "print(f\"Середня ціна: {mean_price}\")\n",
        "print(f\"Медіанна ціна: {median_price}\")"
      ],
      "metadata": {
        "colab": {
          "base_uri": "https://localhost:8080/"
        },
        "id": "s8xij69T-MDO",
        "outputId": "fafa9632-65bb-4bab-d8ca-6ea34b6bf3a2"
      },
      "execution_count": 35,
      "outputs": [
        {
          "output_type": "stream",
          "name": "stdout",
          "text": [
            "Максимальна ціна: 105\n",
            "Мінімальна ціна: 0\n",
            "Середня ціна: 13.1\n",
            "Медіанна ціна: 11.0\n"
          ]
        }
      ]
    },
    {
      "cell_type": "markdown",
      "source": [
        "Завдання 8: Виконайте наступні завдання з пошуку і сортування даних\n",
        "          Питання: Який рейтинг у датасеті найвищий?\n",
        "Питання: Скільки книг мають такий рейтинг?\n",
        "Питання: Яка книга має найбільше відгуків?\n",
        "Питання: З тих книг, що потрапили до Топ-50 у 2010 році, яка книга найдорожча ?\n",
        "Питання : Скільки книг жанру Fiction потрапили до Топ-50 у 2012 році\n",
        "Питання : Скільки книг з рейтингом 4.9 потрапило до рейтингу у 2010 та 2011 роках (використовуйте | або метод isin)?"
      ],
      "metadata": {
        "id": "Zu0PKFJd-MJJ"
      }
    },
    {
      "cell_type": "code",
      "source": [
        "import pandas as pd\n",
        "\n",
        "df = pd.read_csv('bestsellers with categories.csv')\n",
        "\n",
        "max_rating = df['User Rating'].max()\n",
        "\n",
        "num_books_with_max_rating = df[df['User Rating'] == max_rating]['User Rating'].count()\n",
        "\n",
        "print(f\"Найвищий рейтинг: {max_rating}\")\n",
        "print(f\"Кількість книг з таким рейтингом: {num_books_with_max_rating}\")\n",
        "\n",
        "top_books_2010 = df[df['Year'] == 2010]\n",
        "\n",
        "most_expensive_2010 = top_books_2010[top_books_2010['Price'] == top_books_2010['Price'].max()]\n",
        "\n",
        "print(\"Найдорожча книга серед книг, які потрапили до Топ-50 у 2010 році:\")\n",
        "print(most_expensive_2010)\n",
        "\n",
        "fiction_books_2012 = df[(df['Year'] == 2012) & (df['Genre'] == 'Fiction')]\n",
        "\n",
        "num_fiction_books_2012 = fiction_books_2012.shape[0]\n",
        "\n",
        "print(f\"Кількість книг жанру 'Fiction', які потрапили до Топ-50 у 2012 році: {num_fiction_books_2012}\")\n",
        "\n",
        "high_rating_books = df[(df['User Rating'] == 4.9) & ((df['Year'] == 2010) | (df['Year'] == 2011))]\n",
        "\n",
        "num_high_rating_books = high_rating_books.shape[0]\n",
        "\n",
        "print(f\"Кількість книг з рейтингом 4.9, які потрапили до рейтингу у 2010 та 2011 роках: {num_high_rating_books}\")"
      ],
      "metadata": {
        "colab": {
          "base_uri": "https://localhost:8080/"
        },
        "id": "7R7fn17U-MQY",
        "outputId": "ce775d5a-ba07-4ce9-c645-86664e591461"
      },
      "execution_count": 39,
      "outputs": [
        {
          "output_type": "stream",
          "name": "stdout",
          "text": [
            "Найвищий рейтинг: 4.9\n",
            "Кількість книг з таким рейтингом: 52\n",
            "Найдорожча книга серед книг, які потрапили до Топ-50 у 2010 році:\n",
            "                                                  Name  \\\n",
            "272  Publication Manual of the American Psychologic...   \n",
            "\n",
            "                                 Author  User Rating  Reviews  Price  Year  \\\n",
            "272  American Psychological Association          4.5     8580     46  2010   \n",
            "\n",
            "           Genre  \n",
            "272  Non Fiction  \n",
            "Кількість книг жанру 'Fiction', які потрапили до Топ-50 у 2012 році: 21\n",
            "Кількість книг з рейтингом 4.9, які потрапили до рейтингу у 2010 та 2011 роках: 1\n"
          ]
        }
      ]
    },
    {
      "cell_type": "markdown",
      "source": [
        "Завдання 9: Вивести максимальну і  мінімальну ціну для жанру Fiction I NonFiction (за допомогою методів  groupby та agg, для підрахунку мінімальних та максимальних значень використовуйте max та min). Використовуйте тількі потрібні вам стовпці.\n"
      ],
      "metadata": {
        "id": "s9oCz6iZ-MV3"
      }
    },
    {
      "cell_type": "code",
      "source": [
        "import pandas as pd\n",
        "\n",
        "df = pd.read_csv('bestsellers with categories.csv')\n",
        "\n",
        "filtered_df = df[['Genre', 'Price']][(df['Genre'] == 'Fiction') | (df['Genre'] == 'Non Fiction')]\n",
        "\n",
        "result = filtered_df.groupby('Genre').agg({'Price': ['max', 'min']})\n",
        "\n",
        "print(result)"
      ],
      "metadata": {
        "colab": {
          "base_uri": "https://localhost:8080/"
        },
        "id": "yKPXuEJO-Mb5",
        "outputId": "634749ae-6f34-48f1-f6fc-adba96f072a6"
      },
      "execution_count": 42,
      "outputs": [
        {
          "output_type": "stream",
          "name": "stdout",
          "text": [
            "            Price    \n",
            "              max min\n",
            "Genre                \n",
            "Fiction        82   0\n",
            "Non Fiction   105   0\n"
          ]
        }
      ]
    }
  ]
}