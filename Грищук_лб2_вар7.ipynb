{
  "nbformat": 4,
  "nbformat_minor": 0,
  "metadata": {
    "colab": {
      "provenance": [],
      "authorship_tag": "ABX9TyODLMJZMaBqQxu+VXbjhHxv"
    },
    "kernelspec": {
      "name": "python3",
      "display_name": "Python 3"
    },
    "language_info": {
      "name": "python"
    }
  },
  "cells": [
    {
      "cell_type": "markdown",
      "source": [
        "ПРАКТИЧНА РОБОТА 1\n",
        "\n",
        "---\n",
        "\n",
        "\n",
        "Вступ до машинного навчання. Елементи лінійної алгебри.\n",
        ">\n",
        "Варіант №7\n",
        ">\n",
        "Мій githab:https://github.com/Uchiha-Ihor/Machine_learning"
      ],
      "metadata": {
        "id": "rsUwbt1j7Kvi"
      }
    },
    {
      "cell_type": "markdown",
      "source": [
        "Завдання 1: Виведіть перші 5 рядків таблиці"
      ],
      "metadata": {
        "id": "Vj5m1eqY-CtV"
      }
    },
    {
      "cell_type": "code",
      "source": [
        "import pandas as pd\n",
        "\n",
        "url = \"https://uk.wikipedia.org/wiki/%D0%A1%D0%B5%D1%80%D0%B5%D0%B4%D0%BD%D1%8F_%D0%B7%D0%B0%D1%80%D0%BE%D0%B1%D1%96%D1%2\"\n",
        "\n",
        "data = pd.read_html(url, header=0)[2]\n",
        "\n",
        "print(data.head(5))\n"
      ],
      "metadata": {
        "colab": {
          "base_uri": "https://localhost:8080/"
        },
        "id": "nddFtBSc7WTZ",
        "outputId": "7d368876-6fc5-4611-ec35-66b492ad5256"
      },
      "execution_count": 2,
      "outputs": [
        {
          "output_type": "stream",
          "name": "stdout",
          "text": [
            "    Рік В національній валюті В доларах США  \\\n",
            "0  1992              5832,88▲        28,04▼   \n",
            "1  1993               163533▲        36,03▲   \n",
            "2  1994              1426343▲        44,99▲   \n",
            "3  1995              7304000▲        49,53▲   \n",
            "4  1996               125,23▼        68,45▲   \n",
            "\n",
            "  Кількість кг хліба[20] на середню зарплату  \\\n",
            "0                                   1015,67▲   \n",
            "1                                    430,42▼   \n",
            "2                                    372,76▼   \n",
            "3                                    201,76▼   \n",
            "4                                    198,62▼   \n",
            "\n",
            "  Кількість БігМаків на середню зарплату  \n",
            "0                                      —  \n",
            "1                                      —  \n",
            "2                                      —  \n",
            "3                                      —  \n",
            "4                                      —  \n"
          ]
        }
      ]
    },
    {
      "cell_type": "markdown",
      "source": [
        "Завдання 2: Визначте кількість рядків і стовпчиків за допомогою атрибуту shape"
      ],
      "metadata": {
        "id": "dxhenQHu-KIL"
      }
    },
    {
      "cell_type": "code",
      "source": [
        "import pandas as pd\n",
        "\n",
        "url = \"https://uk.wikipedia.org/wiki/%D0%A1%D0%B5%D1%80%D0%B5%D0%B4%D0%BD%D1%8F_%D0%B7%D0%B0%D1%80%D0%BE%D0%B1%D1%96%D1%82%D0%BD%D0%B0_%D0%BF%D0%BB%D0%B0%D1%82%D0%B0_%D0%B2_%D0%A3%D0%BA%D1%80%D0%B0%D1%97%D0%BD%D1%96\"\n",
        "\n",
        "data = pd.read_html(url, header=0)[2]\n",
        "\n",
        "rows, columns = data.shape\n",
        "\n",
        "print(\"Кількість рядків:\", rows)\n",
        "print(\"Кількість стовпців:\", columns)"
      ],
      "metadata": {
        "colab": {
          "base_uri": "https://localhost:8080/"
        },
        "id": "IxjlSRnW-Kn_",
        "outputId": "52a3ce62-8d69-4bc1-e23a-d54c86630684"
      },
      "execution_count": 3,
      "outputs": [
        {
          "output_type": "stream",
          "name": "stdout",
          "text": [
            "Кількість рядків: 32\n",
            "Кількість стовпців: 5\n"
          ]
        }
      ]
    },
    {
      "cell_type": "markdown",
      "source": [
        "Завдання 3: Визначте загальну кількість років та кількість місяців у даних."
      ],
      "metadata": {
        "id": "kTE_Nz4n-LKO"
      }
    },
    {
      "cell_type": "code",
      "source": [
        "import pandas as pd\n",
        "\n",
        "url = \"https://uk.wikipedia.org/wiki/%D0%A1%D0%B5%D1%80%D0%B5%D0%B4%D0%BD%D1%8F_%D0%B7%D0%B0%D1%80%D0%BE%D0%B1%D1%96%D1%82%D0%BD%D0%B0_%D0%BF%D0%BB%D0%B0%D1%82%D0%B0_%D0%B2_%D0%A3%D0%BA%D1%80%D0%B0%D1%97%D0%BD%D1%96\"\n",
        "\n",
        "data = pd.read_html(url, header=0)[2]\n",
        "\n",
        "years = data.iloc[:, 0]\n",
        "\n",
        "total_years = len(years)\n",
        "total_months = data.shape[1] - 1\n",
        "\n",
        "print(\"Загальна кількість років:\", total_years)\n",
        "print(\"Загальна кількість місяців:\", total_months)"
      ],
      "metadata": {
        "colab": {
          "base_uri": "https://localhost:8080/"
        },
        "id": "goDkgAPY-LRo",
        "outputId": "43ece567-1445-42c8-e96c-8c91066beded"
      },
      "execution_count": 4,
      "outputs": [
        {
          "output_type": "stream",
          "name": "stdout",
          "text": [
            "Загальна кількість років: 32\n",
            "Загальна кількість місяців: 4\n"
          ]
        }
      ]
    },
    {
      "cell_type": "markdown",
      "source": [
        "Завдання 4: Замінити пропущені значення  «-» в таблиці на NaN"
      ],
      "metadata": {
        "id": "bz2yROcw-LXZ"
      }
    },
    {
      "cell_type": "code",
      "source": [
        "import pandas as pd\n",
        "import numpy as np\n",
        "\n",
        "url = \"https://uk.wikipedia.org/wiki/%D0%A1%D0%B5%D1%80%D0%B5%D0%B4%D0%BD%D1%8F_%D0%B7%D0%B0%D1%80%D0%BE%D0%B1%D1%96%D1%82%D0%BD%D0%B0_%D0%BF%D0%BB%D0%B0%D1%82%D0%B0_%D0%B2_%D0%A3%D0%BA%D1%80%D0%B0%D1%97%D0%BD%D1%96\"\n",
        "\n",
        "data = pd.read_html(url, header=0)[2]\n",
        "\n",
        "data = data.replace('—', np.nan)\n",
        "\n",
        "print(data.head(5))"
      ],
      "metadata": {
        "colab": {
          "base_uri": "https://localhost:8080/"
        },
        "id": "EiXXzA34-LdF",
        "outputId": "05359a6d-f055-48ee-fbcd-fd8d81d2ad7b"
      },
      "execution_count": 18,
      "outputs": [
        {
          "output_type": "stream",
          "name": "stdout",
          "text": [
            "    Рік В національній валюті В доларах США  \\\n",
            "0  1992              5832,88▲        28,04▼   \n",
            "1  1993               163533▲        36,03▲   \n",
            "2  1994              1426343▲        44,99▲   \n",
            "3  1995              7304000▲        49,53▲   \n",
            "4  1996               125,23▼        68,45▲   \n",
            "\n",
            "  Кількість кг хліба[20] на середню зарплату  \\\n",
            "0                                   1015,67▲   \n",
            "1                                    430,42▼   \n",
            "2                                    372,76▼   \n",
            "3                                    201,76▼   \n",
            "4                                    198,62▼   \n",
            "\n",
            "  Кількість БігМаків на середню зарплату  \n",
            "0                                    NaN  \n",
            "1                                    NaN  \n",
            "2                                    NaN  \n",
            "3                                    NaN  \n",
            "4                                    NaN  \n"
          ]
        }
      ]
    },
    {
      "cell_type": "markdown",
      "source": [
        "Завдання 5: Визначити тип стовпців за допомогою dtypes."
      ],
      "metadata": {
        "id": "LIz-oD62-Lio"
      }
    },
    {
      "cell_type": "code",
      "source": [
        "import pandas as pd\n",
        "\n",
        "url = \"https://uk.wikipedia.org/wiki/%D0%A1%D0%B5%D1%80%D0%B5%D0%B4%D0%BD%D1%8F_%D0%B7%D0%B0%D1%80%D0%BE%D0%B1%D1%96%D1%82%D0%BD%D0%B0_%D0%BF%D0%BB%D0%B0%D1%82%D0%B0_%D0%B2_%D0%A3%D0%BA%D1%80%D0%B0%D1%97%D0%BD%D1%96\"\n",
        "\n",
        "data = pd.read_html(url, header=0)[2]\n",
        "\n",
        "column_types = data.dtypes\n",
        "\n",
        "print(column_types)"
      ],
      "metadata": {
        "colab": {
          "base_uri": "https://localhost:8080/"
        },
        "id": "k_D5-0wn-LpU",
        "outputId": "793e3f7a-455f-4414-f4cf-9f51d2d568bb"
      },
      "execution_count": 19,
      "outputs": [
        {
          "output_type": "stream",
          "name": "stdout",
          "text": [
            "Рік                                           object\n",
            "В національній валюті                         object\n",
            "В доларах США                                 object\n",
            "Кількість кг хліба[20] на середню зарплату    object\n",
            "Кількість БігМаків на середню зарплату        object\n",
            "dtype: object\n"
          ]
        }
      ]
    },
    {
      "cell_type": "markdown",
      "source": [
        "Завдання 6: Видаліть передостанній і останній стовпчики ( Кількість кг хліба[20] на середнюзарплату,  Кільксть БігМаків на середню зарплату). Далі працюйте з оновленою таблицею.  "
      ],
      "metadata": {
        "id": "FS3kq6_5-Lvf"
      }
    },
    {
      "cell_type": "code",
      "source": [
        "import pandas as pd\n",
        "\n",
        "url = \"https://uk.wikipedia.org/wiki/%D0%A1%D0%B5%D1%80%D0%B5%D0%B4%D0%BD%D1%8F_%D0%B7%D0%B0%D1%80%D0%BE%D0%B1%D1%96%D1%82%D0%BD%D0%B0_%D0%BF%D0%BB%D0%B0%D1%82%D0%B0_%D0%B2_%D0%A3%D0%BA%D1%80%D0%B0%D1%97%D0%BD%D1%96\"\n",
        "\n",
        "data = pd.read_html(url, header=0)[2]\n",
        "\n",
        "data = data.drop(columns=['Кількість кг хліба[20] на середню зарплату', 'Кількість БігМаків на середню зарплату'])\n",
        "\n",
        "print(data.head(5))"
      ],
      "metadata": {
        "colab": {
          "base_uri": "https://localhost:8080/"
        },
        "id": "r8uYhGmb-L2V",
        "outputId": "4ef9ef75-df35-4754-e7ac-e06be766caa7"
      },
      "execution_count": 23,
      "outputs": [
        {
          "output_type": "stream",
          "name": "stdout",
          "text": [
            "    Рік В національній валюті В доларах США\n",
            "0  1992              5832,88▲        28,04▼\n",
            "1  1993               163533▲        36,03▲\n",
            "2  1994              1426343▲        44,99▲\n",
            "3  1995              7304000▲        49,53▲\n",
            "4  1996               125,23▼        68,45▲\n"
          ]
        }
      ]
    },
    {
      "cell_type": "markdown",
      "source": [
        "Завдання 7: Замінити тип нечислових даних на числові."
      ],
      "metadata": {
        "id": "rEuWZ5dS-L8P"
      }
    },
    {
      "cell_type": "code",
      "source": [
        "import pandas as pd\n",
        "\n",
        "url = \"https://uk.wikipedia.org/wiki/%D0%A1%D0%B5%D1%80%D0%B5%D0%B4%D0%BD%D1%8F_%D0%B7%D0%B0%D1%80%D0%BE%D0%B1%D1%96%D1%82%D0%BD%D0%B0_%D0%BF%D0%BB%D0%B0%D1%82%D0%B0_%D0%B2_%D0%A3%D0%BA%D1%80%D0%B0%D1%97%D0%BD%D1%96\"\n",
        "\n",
        "data = pd.read_html(url, header=0)[2]\n",
        "\n",
        "print(\"Початкова таблиця:\")\n",
        "print(data.head(5))\n",
        "\n",
        "def try_convert_to_float(value):\n",
        "    try:\n",
        "        return float(value)\n",
        "    except ValueError:\n",
        "        return value\n",
        "\n",
        "for column in data.columns:\n",
        "    data[column] = data[column].apply(try_convert_to_float)\n",
        "\n",
        "print(\"\\nОновлена таблиця:\")\n",
        "print(data.head(5))"
      ],
      "metadata": {
        "colab": {
          "base_uri": "https://localhost:8080/"
        },
        "id": "s8xij69T-MDO",
        "outputId": "3f19c4e9-ff66-4c43-9df8-ef83280fbc9e"
      },
      "execution_count": 25,
      "outputs": [
        {
          "output_type": "stream",
          "name": "stdout",
          "text": [
            "Початкова таблиця:\n",
            "    Рік В національній валюті В доларах США  \\\n",
            "0  1992              5832,88▲        28,04▼   \n",
            "1  1993               163533▲        36,03▲   \n",
            "2  1994              1426343▲        44,99▲   \n",
            "3  1995              7304000▲        49,53▲   \n",
            "4  1996               125,23▼        68,45▲   \n",
            "\n",
            "  Кількість кг хліба[20] на середню зарплату  \\\n",
            "0                                   1015,67▲   \n",
            "1                                    430,42▼   \n",
            "2                                    372,76▼   \n",
            "3                                    201,76▼   \n",
            "4                                    198,62▼   \n",
            "\n",
            "  Кількість БігМаків на середню зарплату  \n",
            "0                                      —  \n",
            "1                                      —  \n",
            "2                                      —  \n",
            "3                                      —  \n",
            "4                                      —  \n",
            "\n",
            "Оновлена таблиця:\n",
            "      Рік В національній валюті В доларах США  \\\n",
            "0  1992.0              5832,88▲        28,04▼   \n",
            "1  1993.0               163533▲        36,03▲   \n",
            "2  1994.0              1426343▲        44,99▲   \n",
            "3  1995.0              7304000▲        49,53▲   \n",
            "4  1996.0               125,23▼        68,45▲   \n",
            "\n",
            "  Кількість кг хліба[20] на середню зарплату  \\\n",
            "0                                   1015,67▲   \n",
            "1                                    430,42▼   \n",
            "2                                    372,76▼   \n",
            "3                                    201,76▼   \n",
            "4                                    198,62▼   \n",
            "\n",
            "  Кількість БігМаків на середню зарплату  \n",
            "0                                      —  \n",
            "1                                      —  \n",
            "2                                      —  \n",
            "3                                      —  \n",
            "4                                      —  \n"
          ]
        }
      ]
    },
    {
      "cell_type": "markdown",
      "source": [
        "Завдання 8: Порахуйте частку пропусків в кожній колонці (за допомогою методів isnull , sum, len)"
      ],
      "metadata": {
        "id": "Zu0PKFJd-MJJ"
      }
    },
    {
      "cell_type": "code",
      "source": [
        "import pandas as pd\n",
        "import numpy as np\n",
        "\n",
        "url = \"https://uk.wikipedia.org/wiki/%D0%A1%D0%B5%D1%80%D0%B5%D0%B4%D0%BD%D1%8F_%D0%B7%D0%B0%D1%80%D0%BE%D0%B1%D1%96%D1%82%D0%BD%D0%B0_%D0%BF%D0%BB%D0%B0%D1%82%D0%B0_%D0%B2_%D0%A3%D0%BA%D1%80%D0%B0%D1%97%D0%BD%D1%96\"\n",
        "\n",
        "data = pd.read_html(url, header=0)[2]\n",
        "\n",
        "data = data.replace('—', np.nan)\n",
        "\n",
        "missing_count = data.isnull().sum()\n",
        "\n",
        "print(\"Кількість пропусків в кожному стовпці:\")\n",
        "print(missing_count)"
      ],
      "metadata": {
        "colab": {
          "base_uri": "https://localhost:8080/"
        },
        "id": "7R7fn17U-MQY",
        "outputId": "3dd7f00a-649f-47b7-a4bc-37f0b8983093"
      },
      "execution_count": 32,
      "outputs": [
        {
          "output_type": "stream",
          "name": "stdout",
          "text": [
            "Кількість пропусків в кожному стовпці:\n",
            "Рік                                           0\n",
            "В національній валюті                         0\n",
            "В доларах США                                 0\n",
            "Кількість кг хліба[20] на середню зарплату    0\n",
            "Кількість БігМаків на середню зарплату        5\n",
            "dtype: int64\n"
          ]
        }
      ]
    },
    {
      "cell_type": "markdown",
      "source": [
        "Завдання 9: Замініть всі пропущені значення на середні значення по (стовпцю)."
      ],
      "metadata": {
        "id": "s9oCz6iZ-MV3"
      }
    },
    {
      "cell_type": "code",
      "source": [
        "import pandas as pd\n",
        "import numpy as np\n",
        "\n",
        "url = \"https://uk.wikipedia.org/wiki/%D0%A1%D0%B5%D1%80%D0%B5%D0%B4%D0%BD%D1%8F_%D0%B7%D0%B0%D1%80%D0%BE%D0%B1%D1%96%D1%82%D0%BD%D0%B0_%D0%BF%D0%BB%D0%B0%D1%82%D0%B0_%D0%B2_%D0%A3%D0%BA%D1%80%D0%B0%D1%97%D0%BD%D1%96\"\n",
        "\n",
        "data = pd.read_html(url, header=0)[2]\n",
        "\n",
        "x =  20 + 24 + 50 + 81 + 111 + 123 + 146 + 164 + 136 + 155 + 160 + 202 + 172 + 182 + 124 + 133 + 161 + 177 + 184 + 187 + 216 + 132 + 123\n",
        "x = x / 23;\n",
        "\n",
        "data = data.replace('—', x)\n",
        "\n",
        "print(data)"
      ],
      "metadata": {
        "colab": {
          "base_uri": "https://localhost:8080/"
        },
        "id": "yKPXuEJO-Mb5",
        "outputId": "13fb1e6f-92ce-4638-80bd-fe1a93f91c8a"
      },
      "execution_count": 49,
      "outputs": [
        {
          "output_type": "stream",
          "name": "stdout",
          "text": [
            "      Рік В національній валюті В доларах США  \\\n",
            "0    1992              5832,88▲        28,04▼   \n",
            "1    1993               163533▲        36,03▲   \n",
            "2    1994              1426343▲        44,99▲   \n",
            "3    1995              7304000▲        49,53▲   \n",
            "4    1996               125,23▼        68,45▲   \n",
            "5    1997               143,09▲        76,86▲   \n",
            "6    1998               152,83▲        62,39▼   \n",
            "7    1999               177,39▲        42,95▼   \n",
            "8    2000               231,04▲        42,47▼   \n",
            "9    2001               311,62▲        58,01▲   \n",
            "10   2002               375,98▲        70,59▲   \n",
            "11   2003               462,58▲        86,74▲   \n",
            "12   2004               590,53▲       111,02▲   \n",
            "13   2005               806,14▲       157,30▲   \n",
            "14   2006              1042,88▲       206,51▲   \n",
            "15   2007              1352,75▲       267,87▲   \n",
            "16   2008              1808,92▲       343,43▲   \n",
            "17   2009              1909,25▲       245,05▼   \n",
            "18   2010              2246,75▲       283,12▲   \n",
            "19   2011              2639,17▲       331,24▲   \n",
            "20   2012              3031,92▲       379,42▲   \n",
            "21   2013              3273,82▲       409,59▲   \n",
            "22   2014              3474,75▲       292,32▼   \n",
            "23   2015              4207,33▲       162,60▼   \n",
            "24   2016              5187,33▲       203,02▲   \n",
            "25   2017              7105,42▲       267,16▲   \n",
            "26   2018              8867,33▲       325,99▲   \n",
            "27   2019             10503,75▲       406,40▲   \n",
            "28   2020             11596,60▲       430,21▲   \n",
            "29   2021             14017,80▲       514,41▲   \n",
            "30  2022*             13376,21▼       380,00▼   \n",
            "31  2023*             12954,12▼       327,70▼   \n",
            "\n",
            "   Кількість кг хліба[20] на середню зарплату  \\\n",
            "0                                    1015,67▲   \n",
            "1                                     430,42▼   \n",
            "2                                     372,76▼   \n",
            "3                                     201,76▼   \n",
            "4                                     198,62▼   \n",
            "5                                     211,13▲   \n",
            "6                                     177,69▼   \n",
            "7                                     180,68▲   \n",
            "8                                     117,51▼   \n",
            "9                                     153,57▲   \n",
            "10                                    213,84▲   \n",
            "11                                    276,27▲   \n",
            "12                                    276,06▼   \n",
            "13                                    332,05▲   \n",
            "14                                    441,28▲   \n",
            "15                                    498,66▲   \n",
            "16                                    585,00▲   \n",
            "17                                    497,02▼   \n",
            "18                                    527,82▲   \n",
            "19                                    564,37▲   \n",
            "20                                    585,38▲   \n",
            "21                                    625,00▲   \n",
            "22                                    642,39▲   \n",
            "23                                    517,22▼   \n",
            "24                                    441,05▼   \n",
            "25                                    450,35▲   \n",
            "26                                    497,05▲   \n",
            "27                                    528,09▲   \n",
            "28                                    549,08▲   \n",
            "29                                    560,03▲   \n",
            "30                                    409,57▼   \n",
            "31                                    367,85▼   \n",
            "\n",
            "   Кількість БігМаків на середню зарплату  \n",
            "0                              137.521739  \n",
            "1                              137.521739  \n",
            "2                              137.521739  \n",
            "3                              137.521739  \n",
            "4                              137.521739  \n",
            "5                                  20[21]  \n",
            "6                                    н.д.  \n",
            "7                                 24▲[22]  \n",
            "8                                    н.д.  \n",
            "9                                 50▲[23]  \n",
            "10                                   н.д.  \n",
            "11                                   н.д.  \n",
            "12                                    81▲  \n",
            "13                                   111▲  \n",
            "14                                   123▲  \n",
            "15                                   146▲  \n",
            "16                                   164▲  \n",
            "17                                   136▼  \n",
            "18                                   155▲  \n",
            "19                                   160▲  \n",
            "20                                   202▲  \n",
            "21                                   172▼  \n",
            "22                                   182▲  \n",
            "23                                   124▼  \n",
            "24                                   133▲  \n",
            "25                                   161▲  \n",
            "26                                   177▲  \n",
            "27                                   184▲  \n",
            "28                                   187▲  \n",
            "29                                   216▲  \n",
            "30                                   132▼  \n",
            "31                                   123▼  \n"
          ]
        }
      ]
    },
    {
      "cell_type": "markdown",
      "source": [
        "Завдання 10: Знайдіть рік з найвищою зарплатою в Україні в грн і вкажіть цю зарплату."
      ],
      "metadata": {
        "id": "TSmZjq0a-MhQ"
      }
    },
    {
      "cell_type": "code",
      "source": [
        "import pandas as pd\n",
        "import numpy as np\n",
        "\n",
        "url = \"https://uk.wikipedia.org/wiki/%D0%A1%D0%B5%D1%80%D0%B5%D0%B4%D0%BD%D1%8F_%D0%B7%D0%B0%D1%80%D0%BE%D0%B1%D1%96%D1%82%D0%BD%D0%B0_%D0%BF%D0%BB%D0%B0%D1%82%D0%B0_%D0%B2_%D0%A3%D0%BA%D1%80%D0%B0%D1%97%D0%BD%D1%96\"\n",
        "\n",
        "data = pd.read_html(url, header=0)[2]\n",
        "\n",
        "data = data.replace('—', np.nan)\n",
        "\n",
        "numerical_columns = [col for col in data.columns if col != 'Рік']\n",
        "data[numerical_columns] = data[numerical_columns].apply(lambda x: x.str.replace('[^0-9.]', '', regex=True).str.replace(',', '.', regex=False).str.rstrip('▲▼').replace('..', np.nan).astype(float) if x.name != 'Рік' else x)\n",
        "\n",
        "max_salary_year = data[numerical_columns].max(axis=1).idxmax()\n",
        "max_salary = data.loc[max_salary_year, 'Рік']\n",
        "\n",
        "print(f\"Рік з найвищою середньорічною зарплатою в Україні: {max_salary} рік\")"
      ],
      "metadata": {
        "colab": {
          "base_uri": "https://localhost:8080/"
        },
        "id": "o8QLvKXF-Mnk",
        "outputId": "e8ee93c0-e0b3-41f6-fcb3-a5006b7bef8a"
      },
      "execution_count": 61,
      "outputs": [
        {
          "output_type": "stream",
          "name": "stdout",
          "text": [
            "Рік з найвищою середньорічною зарплатою в Україні: 1995 рік\n"
          ]
        }
      ]
    },
    {
      "cell_type": "markdown",
      "source": [
        "Завдання 11: Знайдіть рік з мінімальною  зарплатою в Україні в дол. США і вкажіть цю зарплату."
      ],
      "metadata": {
        "id": "AGyKiCRt-MtC"
      }
    },
    {
      "cell_type": "code",
      "source": [
        "import pandas as pd\n",
        "import numpy as np\n",
        "\n",
        "url = \"https://uk.wikipedia.org/wiki/%D0%A1%D0%B5%D1%80%D0%B5%D0%B4%D0%BD%D1%8F_%D0%B7%D0%B0%D1%80%D0%BE%D0%B1%D1%96%D1%82%D0%BD%D0%B0_%D0%BF%D0%BB%D0%B0%D1%82%D0%B0_%D0%B2_%D0%A3%D0%BA%D1%80%D0%B0%D1%97%D0%BD%D1%96\"\n",
        "\n",
        "data = pd.read_html(url, header=0)[2]\n",
        "\n",
        "data = data.replace('—', np.nan)\n",
        "\n",
        "numerical_columns = [col for col in data.columns if col != 'Рік']\n",
        "data[numerical_columns] = data[numerical_columns].apply(lambda x: x.str.replace('[^0-9.]', '', regex=True).str.replace(',', '.', regex=False).str.rstrip('▲▼').replace('..', np.nan).astype(float) if x.name != 'Рік' else x)\n",
        "\n",
        "min_salary_year = data[numerical_columns].min(axis=1).idxmin()\n",
        "min_salary_usd = data.loc[min_salary_year, 'Рік']\n",
        "\n",
        "print(f\"Рік з мінімальною середньорічною зарплатою в Україні в доларах США: {min_salary_usd} рік\")"
      ],
      "metadata": {
        "colab": {
          "base_uri": "https://localhost:8080/"
        },
        "id": "9a9PugmX-Mzv",
        "outputId": "5c354365-a7f2-44df-c372-4abd9b8ead8e"
      },
      "execution_count": 62,
      "outputs": [
        {
          "output_type": "stream",
          "name": "stdout",
          "text": [
            "Рік з мінімальною середньорічною зарплатою в Україні в доларах США: 2004 рік\n"
          ]
        }
      ]
    },
    {
      "cell_type": "markdown",
      "source": [
        "Завдання 12: Виведіть роки, коли зарплата в грн була вище середньої."
      ],
      "metadata": {
        "id": "dHJqUe8_-QDm"
      }
    },
    {
      "cell_type": "code",
      "source": [
        "import pandas as pd\n",
        "import numpy as np\n",
        "\n",
        "url = \"https://uk.wikipedia.org/wiki/%D0%A1%D0%B5%D1%80%D0%B5%D0%B4%D0%BD%D1%8F_%D0%B7%D0%B0%D1%80%D0%BE%D0%B1%D1%96%D1%82%D0%BD%D0%B0_%D0%BF%D0%BB%D0%B0%D1%82%D0%B0_%D0%B2_%D0%A3%D0%BA%D1%80%D0%B0%D1%97%D0%BD%D1%96\"\n",
        "\n",
        "data = pd.read_html(url, header=0)[2]\n",
        "\n",
        "data = data.replace('—', np.nan)\n",
        "\n",
        "numerical_columns = [col for col in data.columns if col != 'Рік']\n",
        "data[numerical_columns] = data[numerical_columns].apply(lambda x: x.str.replace('[^0-9.]', '', regex=True).str.replace(',', '.', regex=False).str.rstrip('▲▼').replace('..', np.nan).astype(float) if x.name != 'Рік' else x)\n",
        "\n",
        "average_salary_gryvna = data[numerical_columns].mean(axis=1)\n",
        "\n",
        "years_above_average = data.loc[average_salary_gryvna > average_salary_gryvna.mean(), 'Рік']\n",
        "\n",
        "print(\"Роки, коли зарплата в гривнях була вище середньої:\")\n",
        "print(years_above_average)"
      ],
      "metadata": {
        "colab": {
          "base_uri": "https://localhost:8080/"
        },
        "id": "cbFKp8ty-QK6",
        "outputId": "22c458de-8fd4-4c6e-819e-a83dc366f81b"
      },
      "execution_count": 64,
      "outputs": [
        {
          "output_type": "stream",
          "name": "stdout",
          "text": [
            "Роки, коли зарплата в гривнях була вище середньої:\n",
            "0      1992\n",
            "2      1994\n",
            "3      1995\n",
            "26     2018\n",
            "27     2019\n",
            "28     2020\n",
            "29     2021\n",
            "30    2022*\n",
            "31    2023*\n",
            "Name: Рік, dtype: object\n"
          ]
        }
      ]
    },
    {
      "cell_type": "markdown",
      "source": [
        "Завдання 13: Порівняйте  зарплату  в грн за останні два доступних роки.  "
      ],
      "metadata": {
        "id": "TxDo49wT-QbO"
      }
    },
    {
      "cell_type": "code",
      "source": [
        "import pandas as pd\n",
        "import numpy as np\n",
        "\n",
        "url = \"https://uk.wikipedia.org/wiki/%D0%A1%D0%B5%D1%80%D0%B5%D0%B4%D0%BD%D1%8F_%D0%B7%D0%B0%D1%80%D0%BE%D0%B1%D1%96%D1%82%D0%BD%D0%B0_%D0%BF%D0%BB%D0%B0%D1%82%D0%B0_%D0%B2_%D0%A3%D0%BA%D1%80%D0%B0%D1%97%D0%BD%D1%96\"\n",
        "\n",
        "data = pd.read_html(url, header=0)[2]\n",
        "\n",
        "data = data.replace('—', np.nan)\n",
        "\n",
        "numerical_columns = [col for col in data.columns if col != 'Рік']\n",
        "data[numerical_columns] = data[numerical_columns].apply(lambda x: x.str.replace('[^0-9.]', '', regex=True).str.replace(',', '.', regex=False).str.rstrip('▲▼').replace('..', np.nan).astype(float) if x.name != 'Рік' else x)\n",
        "\n",
        "average_salary_gryvna = data[numerical_columns].mean(axis=1)\n",
        "\n",
        "latest_two_years_data = data.iloc[-2:, -2:]\n",
        "\n",
        "print(\"Зарплата в гривнях за останні два доступних роки:\")\n",
        "print(latest_two_years_data)"
      ],
      "metadata": {
        "colab": {
          "base_uri": "https://localhost:8080/"
        },
        "id": "tG3OAvYo-QjG",
        "outputId": "9850df8d-8595-4faa-8e77-626957c66fe7"
      },
      "execution_count": 66,
      "outputs": [
        {
          "output_type": "stream",
          "name": "stdout",
          "text": [
            "Зарплата в гривнях за останні два доступних роки:\n",
            "    Кількість кг хліба[20] на середню зарплату  \\\n",
            "30                                     40957.0   \n",
            "31                                     36785.0   \n",
            "\n",
            "    Кількість БігМаків на середню зарплату  \n",
            "30                                   132.0  \n",
            "31                                   123.0  \n"
          ]
        }
      ]
    },
    {
      "cell_type": "markdown",
      "source": [
        "Завдання 14: Створіть графік, що відображає  зарплату в Україні з часом (за роками)."
      ],
      "metadata": {
        "id": "knD-HJgx-RZa"
      }
    },
    {
      "cell_type": "code",
      "source": [
        "import matplotlib.pyplot as plt\n",
        "\n",
        "years = data['Рік']\n",
        "salary_in_uah = data['В національній валюті']\n",
        "\n",
        "plt.figure(figsize=(12, 6))\n",
        "plt.plot(years, salary_in_uah, marker='o', linestyle='-')\n",
        "\n",
        "plt.title('Зарплата в Україні з часом')\n",
        "plt.xlabel('Рік')\n",
        "plt.ylabel('В національній валюті')\n",
        "plt.grid(True)\n",
        "\n",
        "plt.xticks(rotation=45)\n",
        "plt.tight_layout()\n",
        "plt.show()"
      ],
      "metadata": {
        "colab": {
          "base_uri": "https://localhost:8080/",
          "height": 440
        },
        "id": "EbxRnmSJ-SNI",
        "outputId": "92b247ee-a187-41cf-a4fd-ba724a38c8c6"
      },
      "execution_count": 68,
      "outputs": [
        {
          "output_type": "display_data",
          "data": {
            "text/plain": [
              "<Figure size 1200x600 with 1 Axes>"
            ],
            "image/png": "[encoded data removed]"
          },
          "metadata": {}
        }
      ]
    },
    {
      "cell_type": "markdown",
      "source": [
        "Завдання 15: Видаліть останній рік з таблиці та виведіть оновлену таблицю."
      ],
      "metadata": {
        "id": "DHMZTXSJ-Sb8"
      }
    },
    {
      "cell_type": "code",
      "source": [
        "last_year_index = data.index[-1]\n",
        "\n",
        "data = data.drop(index=last_year_index)\n",
        "\n",
        "print(data)"
      ],
      "metadata": {
        "colab": {
          "base_uri": "https://localhost:8080/"
        },
        "id": "LvUl3155-SlG",
        "outputId": "c7689f8d-0218-4caa-9187-a15a2b46f6b7"
      },
      "execution_count": 69,
      "outputs": [
        {
          "output_type": "stream",
          "name": "stdout",
          "text": [
            "      Рік  В національній валюті  В доларах США  \\\n",
            "0    1992               583288.0         2804.0   \n",
            "1    1993               163533.0         3603.0   \n",
            "2    1994              1426343.0         4499.0   \n",
            "3    1995              7304000.0         4953.0   \n",
            "4    1996                12523.0         6845.0   \n",
            "5    1997                14309.0         7686.0   \n",
            "6    1998                15283.0         6239.0   \n",
            "7    1999                17739.0         4295.0   \n",
            "8    2000                23104.0         4247.0   \n",
            "9    2001                31162.0         5801.0   \n",
            "10   2002                37598.0         7059.0   \n",
            "11   2003                46258.0         8674.0   \n",
            "12   2004                59053.0        11102.0   \n",
            "13   2005                80614.0        15730.0   \n",
            "14   2006               104288.0        20651.0   \n",
            "15   2007               135275.0        26787.0   \n",
            "16   2008               180892.0        34343.0   \n",
            "17   2009               190925.0        24505.0   \n",
            "18   2010               224675.0        28312.0   \n",
            "19   2011               263917.0        33124.0   \n",
            "20   2012               303192.0        37942.0   \n",
            "21   2013               327382.0        40959.0   \n",
            "22   2014               347475.0        29232.0   \n",
            "23   2015               420733.0        16260.0   \n",
            "24   2016               518733.0        20302.0   \n",
            "25   2017               710542.0        26716.0   \n",
            "26   2018               886733.0        32599.0   \n",
            "27   2019              1050375.0        40640.0   \n",
            "28   2020              1159660.0        43021.0   \n",
            "29   2021              1401780.0        51441.0   \n",
            "30  2022*              1337621.0        38000.0   \n",
            "\n",
            "    Кількість кг хліба[20] на середню зарплату  \\\n",
            "0                                     101567.0   \n",
            "1                                      43042.0   \n",
            "2                                      37276.0   \n",
            "3                                      20176.0   \n",
            "4                                      19862.0   \n",
            "5                                      21113.0   \n",
            "6                                      17769.0   \n",
            "7                                      18068.0   \n",
            "8                                      11751.0   \n",
            "9                                      15357.0   \n",
            "10                                     21384.0   \n",
            "11                                     27627.0   \n",
            "12                                     27606.0   \n",
            "13                                     33205.0   \n",
            "14                                     44128.0   \n",
            "15                                     49866.0   \n",
            "16                                     58500.0   \n",
            "17                                     49702.0   \n",
            "18                                     52782.0   \n",
            "19                                     56437.0   \n",
            "20                                     58538.0   \n",
            "21                                     62500.0   \n",
            "22                                     64239.0   \n",
            "23                                     51722.0   \n",
            "24                                     44105.0   \n",
            "25                                     45035.0   \n",
            "26                                     49705.0   \n",
            "27                                     52809.0   \n",
            "28                                     54908.0   \n",
            "29                                     56003.0   \n",
            "30                                     40957.0   \n",
            "\n",
            "    Кількість БігМаків на середню зарплату  \n",
            "0                                      NaN  \n",
            "1                                      NaN  \n",
            "2                                      NaN  \n",
            "3                                      NaN  \n",
            "4                                      NaN  \n",
            "5                                   2021.0  \n",
            "6                                      NaN  \n",
            "7                                   2422.0  \n",
            "8                                      NaN  \n",
            "9                                   5023.0  \n",
            "10                                     NaN  \n",
            "11                                     NaN  \n",
            "12                                    81.0  \n",
            "13                                   111.0  \n",
            "14                                   123.0  \n",
            "15                                   146.0  \n",
            "16                                   164.0  \n",
            "17                                   136.0  \n",
            "18                                   155.0  \n",
            "19                                   160.0  \n",
            "20                                   202.0  \n",
            "21                                   172.0  \n",
            "22                                   182.0  \n",
            "23                                   124.0  \n",
            "24                                   133.0  \n",
            "25                                   161.0  \n",
            "26                                   177.0  \n",
            "27                                   184.0  \n",
            "28                                   187.0  \n",
            "29                                   216.0  \n",
            "30                                   132.0  \n"
          ]
        }
      ]
    },
    {
      "cell_type": "markdown",
      "source": [
        "Завдання 16: Побудуйте графік, що відображає середню зарплату в Україні в розрізі років без останнього року."
      ],
      "metadata": {
        "id": "BGMJemDA9HXh"
      }
    },
    {
      "cell_type": "code",
      "source": [
        "import matplotlib.pyplot as plt\n",
        "\n",
        "data = data[:-1]\n",
        "\n",
        "years = data['Рік']\n",
        "average_salary = data['В національній валюті']\n",
        "\n",
        "plt.figure(figsize=(12, 6))\n",
        "plt.plot(years, average_salary, marker='o', linestyle='-')\n",
        "plt.title('Середня зарплата в Україні за роками (без останнього року)')\n",
        "plt.xlabel('Рік')\n",
        "plt.ylabel('В національній валюті')\n",
        "plt.grid(True)\n",
        "plt.xticks(rotation=45)\n",
        "plt.tight_layout()\n",
        "\n",
        "plt.show()"
      ],
      "metadata": {
        "colab": {
          "base_uri": "https://localhost:8080/",
          "height": 441
        },
        "id": "AAd5upC69Stq",
        "outputId": "db49fed3-9c8c-4bf3-83f9-b75335e0a7ed"
      },
      "execution_count": 71,
      "outputs": [
        {
          "output_type": "display_data",
          "data": {
            "text/plain": [
              "<Figure size 1200x600 with 1 Axes>"
            ],
            "image/png": "[encoded data removed]"
          },
          "metadata": {}
        }
      ]
    },
    {
      "cell_type": "markdown",
      "source": [
        "Завдання 17: Обчисліть зарплату за останні два роки і порівняйте її із зарплатою за останні 5 років. Вкажіть, чи є різниця, і в якому напрямку."
      ],
      "metadata": {
        "id": "JE9Wzyuw9Jpj"
      }
    },
    {
      "cell_type": "code",
      "source": [
        "last_two_years_salary = data[['Рік', 'В національній валюті']][-2:]\n",
        "\n",
        "last_five_years_salary = data[['Рік', 'В національній валюті']][-5:]\n",
        "\n",
        "total_salary_last_two_years = last_two_years_salary['В національній валюті'].sum()\n",
        "\n",
        "total_salary_last_five_years = last_five_years_salary['В національній валюті'].sum()\n",
        "\n",
        "if total_salary_last_two_years > total_salary_last_five_years:\n",
        "    print(f\"Зарплата за останні два роки більша за зарплату за останні 5 років.\")\n",
        "    print(f\"Різниця: {total_salary_last_two_years - total_salary_last_five_years} грн.\")\n",
        "elif total_salary_last_two_years < total_salary_last_five_years:\n",
        "    print(f\"Зарплата за останні два роки менша за зарплату за останні 5 років.\")\n",
        "    print(f\"Різниця: {total_salary_last_five_years - total_salary_last_two_years} грн.\")\n",
        "else:\n",
        "    print(\"Зарплата за останні два роки дорівнює зарплаті за останні 5 років.\")"
      ],
      "metadata": {
        "colab": {
          "base_uri": "https://localhost:8080/"
        },
        "id": "4Q946UNe9ThO",
        "outputId": "b4480a69-a898-4f35-bc6e-ec8c4d9cb619"
      },
      "execution_count": 73,
      "outputs": [
        {
          "output_type": "stream",
          "name": "stdout",
          "text": [
            "Зарплата за останні два роки менша за зарплату за останні 5 років.\n",
            "Різниця: 2116008.0 грн.\n"
          ]
        }
      ]
    }
  ]
}