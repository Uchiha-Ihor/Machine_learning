{
  "nbformat": 4,
  "nbformat_minor": 0,
  "metadata": {
    "colab": {
      "provenance": [],
      "toc_visible": true,
      "authorship_tag": "ABX9TyMrb+GbmFEdEC+nDyPX0h7b",
      "include_colab_link": true
    },
    "kernelspec": {
      "name": "python3",
      "display_name": "Python 3"
    },
    "language_info": {
      "name": "python"
    }
  },
  "cells": [
    {
      "cell_type": "markdown",
      "metadata": {
        "id": "view-in-github",
        "colab_type": "text"
      },
      "source": [
        "<a href=\"https://colab.research.google.com/github/Uchiha-Ihor/Machine_learning/blob/master/%D0%93%D1%80%D0%B8%D1%89%D1%83%D0%BA_%D0%BB%D0%B14_%D0%B2%D0%B0%D1%807.ipynb\" target=\"_parent\"><img src=\"https://colab.research.google.com/assets/colab-badge.svg\" alt=\"Open In Colab\"/></a>"
      ]
    },
    {
      "cell_type": "markdown",
      "source": [
        "ПРАКТИЧНА РОБОТА 4\n",
        "\n",
        "---\n",
        "\n",
        "\n",
        "Вступ до машинного навчання. Елементи лінійної алгебри.\n",
        ">\n",
        "Варіант №7\n",
        ">\n",
        "Мій githab:https://github.com/Uchiha-Ihor/Machine_learning"
      ],
      "metadata": {
        "id": "rsUwbt1j7Kvi"
      }
    },
    {
      "cell_type": "markdown",
      "source": [
        "Завдання 1:Завантажте файл Housing.csv. Виведіть перші 5 рядків."
      ],
      "metadata": {
        "id": "Vj5m1eqY-CtV"
      }
    },
    {
      "cell_type": "code",
      "source": [
        "from google.colab import files\n",
        "uploaded = files.upload()"
      ],
      "metadata": {
        "colab": {
          "base_uri": "https://localhost:8080/",
          "height": 73
        },
        "id": "osIZhfSp265t",
        "outputId": "08294ea5-d3fc-4cbb-fea3-d0934e2543c1"
      },
      "execution_count": 1,
      "outputs": [
        {
          "output_type": "display_data",
          "data": {
            "text/plain": [
              "<IPython.core.display.HTML object>"
            ],
            "text/html": [
              "\n",
              "     <input type=\"file\" id=\"files-00c35910-68a5-4ee0-8013-c8db8a4670d5\" name=\"files[]\" multiple disabled\n",
              "        style=\"border:none\" />\n",
              "     <output id=\"result-00c35910-68a5-4ee0-8013-c8db8a4670d5\">\n",
              "      Upload widget is only available when the cell has been executed in the\n",
              "      current browser session. Please rerun this cell to enable.\n",
              "      </output>\n",
              "      <script>// Copyright 2017 Google LLC\n",
              "//\n",
              "// Licensed under the Apache License, Version 2.0 (the \"License\");\n",
              "// you may not use this file except in compliance with the License.\n",
              "// You may obtain a copy of the License at\n",
              "//\n",
              "//      http://www.apache.org/licenses/LICENSE-2.0\n",
              "//\n",
              "// Unless required by applicable law or agreed to in writing, software\n",
              "// distributed under the License is distributed on an \"AS IS\" BASIS,\n",
              "// WITHOUT WARRANTIES OR CONDITIONS OF ANY KIND, either express or implied.\n",
              "// See the License for the specific language governing permissions and\n",
              "// limitations under the License.\n",
              "\n",
              "/**\n",
              " * @fileoverview Helpers for google.colab Python module.\n",
              " */\n",
              "(function(scope) {\n",
              "function span(text, styleAttributes = {}) {\n",
              "  const element = document.createElement('span');\n",
              "  element.textContent = text;\n",
              "  for (const key of Object.keys(styleAttributes)) {\n",
              "    element.style[key] = styleAttributes[key];\n",
              "  }\n",
              "  return element;\n",
              "}\n",
              "\n",
              "// Max number of bytes which will be uploaded at a time.\n",
              "const MAX_PAYLOAD_SIZE = 100 * 1024;\n",
              "\n",
              "function _uploadFiles(inputId, outputId) {\n",
              "  const steps = uploadFilesStep(inputId, outputId);\n",
              "  const outputElement = document.getElementById(outputId);\n",
              "  // Cache steps on the outputElement to make it available for the next call\n",
              "  // to uploadFilesContinue from Python.\n",
              "  outputElement.steps = steps;\n",
              "\n",
              "  return _uploadFilesContinue(outputId);\n",
              "}\n",
              "\n",
              "// This is roughly an async generator (not supported in the browser yet),\n",
              "// where there are multiple asynchronous steps and the Python side is going\n",
              "// to poll for completion of each step.\n",
              "// This uses a Promise to block the python side on completion of each step,\n",
              "// then passes the result of the previous step as the input to the next step.\n",
              "function _uploadFilesContinue(outputId) {\n",
              "  const outputElement = document.getElementById(outputId);\n",
              "  const steps = outputElement.steps;\n",
              "\n",
              "  const next = steps.next(outputElement.lastPromiseValue);\n",
              "  return Promise.resolve(next.value.promise).then((value) => {\n",
              "    // Cache the last promise value to make it available to the next\n",
              "    // step of the generator.\n",
              "    outputElement.lastPromiseValue = value;\n",
              "    return next.value.response;\n",
              "  });\n",
              "}\n",
              "\n",
              "/**\n",
              " * Generator function which is called between each async step of the upload\n",
              " * process.\n",
              " * @param {string} inputId Element ID of the input file picker element.\n",
              " * @param {string} outputId Element ID of the output display.\n",
              " * @return {!Iterable<!Object>} Iterable of next steps.\n",
              " */\n",
              "function* uploadFilesStep(inputId, outputId) {\n",
              "  const inputElement = document.getElementById(inputId);\n",
              "  inputElement.disabled = false;\n",
              "\n",
              "  const outputElement = document.getElementById(outputId);\n",
              "  outputElement.innerHTML = '';\n",
              "\n",
              "  const pickedPromise = new Promise((resolve) => {\n",
              "    inputElement.addEventListener('change', (e) => {\n",
              "      resolve(e.target.files);\n",
              "    });\n",
              "  });\n",
              "\n",
              "  const cancel = document.createElement('button');\n",
              "  inputElement.parentElement.appendChild(cancel);\n",
              "  cancel.textContent = 'Cancel upload';\n",
              "  const cancelPromise = new Promise((resolve) => {\n",
              "    cancel.onclick = () => {\n",
              "      resolve(null);\n",
              "    };\n",
              "  });\n",
              "\n",
              "  // Wait for the user to pick the files.\n",
              "  const files = yield {\n",
              "    promise: Promise.race([pickedPromise, cancelPromise]),\n",
              "    response: {\n",
              "      action: 'starting',\n",
              "    }\n",
              "  };\n",
              "\n",
              "  cancel.remove();\n",
              "\n",
              "  // Disable the input element since further picks are not allowed.\n",
              "  inputElement.disabled = true;\n",
              "\n",
              "  if (!files) {\n",
              "    return {\n",
              "      response: {\n",
              "        action: 'complete',\n",
              "      }\n",
              "    };\n",
              "  }\n",
              "\n",
              "  for (const file of files) {\n",
              "    const li = document.createElement('li');\n",
              "    li.append(span(file.name, {fontWeight: 'bold'}));\n",
              "    li.append(span(\n",
              "        `(${file.type || 'n/a'}) - ${file.size} bytes, ` +\n",
              "        `last modified: ${\n",
              "            file.lastModifiedDate ? file.lastModifiedDate.toLocaleDateString() :\n",
              "                                    'n/a'} - `));\n",
              "    const percent = span('0% done');\n",
              "    li.appendChild(percent);\n",
              "\n",
              "    outputElement.appendChild(li);\n",
              "\n",
              "    const fileDataPromise = new Promise((resolve) => {\n",
              "      const reader = new FileReader();\n",
              "      reader.onload = (e) => {\n",
              "        resolve(e.target.result);\n",
              "      };\n",
              "      reader.readAsArrayBuffer(file);\n",
              "    });\n",
              "    // Wait for the data to be ready.\n",
              "    let fileData = yield {\n",
              "      promise: fileDataPromise,\n",
              "      response: {\n",
              "        action: 'continue',\n",
              "      }\n",
              "    };\n",
              "\n",
              "    // Use a chunked sending to avoid message size limits. See b/62115660.\n",
              "    let position = 0;\n",
              "    do {\n",
              "      const length = Math.min(fileData.byteLength - position, MAX_PAYLOAD_SIZE);\n",
              "      const chunk = new Uint8Array(fileData, position, length);\n",
              "      position += length;\n",
              "\n",
              "      const base64 = btoa(String.fromCharCode.apply(null, chunk));\n",
              "      yield {\n",
              "        response: {\n",
              "          action: 'append',\n",
              "          file: file.name,\n",
              "          data: base64,\n",
              "        },\n",
              "      };\n",
              "\n",
              "      let percentDone = fileData.byteLength === 0 ?\n",
              "          100 :\n",
              "          Math.round((position / fileData.byteLength) * 100);\n",
              "      percent.textContent = `${percentDone}% done`;\n",
              "\n",
              "    } while (position < fileData.byteLength);\n",
              "  }\n",
              "\n",
              "  // All done.\n",
              "  yield {\n",
              "    response: {\n",
              "      action: 'complete',\n",
              "    }\n",
              "  };\n",
              "}\n",
              "\n",
              "scope.google = scope.google || {};\n",
              "scope.google.colab = scope.google.colab || {};\n",
              "scope.google.colab._files = {\n",
              "  _uploadFiles,\n",
              "  _uploadFilesContinue,\n",
              "};\n",
              "})(self);\n",
              "</script> "
            ]
          },
          "metadata": {}
        },
        {
          "output_type": "stream",
          "name": "stdout",
          "text": [
            "Saving Housing.csv to Housing.csv\n"
          ]
        }
      ]
    },
    {
      "cell_type": "code",
      "source": [
        "import pandas as pd\n",
        "\n",
        "df = pd.read_csv('Housing.csv')\n",
        "\n",
        "print(df.head())\n"
      ],
      "metadata": {
        "colab": {
          "base_uri": "https://localhost:8080/"
        },
        "id": "nddFtBSc7WTZ",
        "outputId": "7e1fcf84-426b-4009-d3c5-607352516c54"
      },
      "execution_count": 3,
      "outputs": [
        {
          "output_type": "stream",
          "name": "stdout",
          "text": [
            "      price  area  bedrooms  bathrooms  stories mainroad guestroom basement  \\\n",
            "0  13300000  7420         4          2        3      yes        no       no   \n",
            "1  12250000  8960         4          4        4      yes        no       no   \n",
            "2  12250000  9960         3          2        2      yes        no      yes   \n",
            "3  12215000  7500         4          2        2      yes        no      yes   \n",
            "4  11410000  7420         4          1        2      yes       yes      yes   \n",
            "\n",
            "  hotwaterheating airconditioning  parking prefarea furnishingstatus  \n",
            "0              no             yes        2      yes        furnished  \n",
            "1              no             yes        3       no        furnished  \n",
            "2              no              no        2      yes   semi-furnished  \n",
            "3              no             yes        3      yes        furnished  \n",
            "4              no             yes        2       no        furnished  \n"
          ]
        }
      ]
    },
    {
      "cell_type": "markdown",
      "source": [
        "Завдання 2: Зробіть новий датасет, який містить тільки ці стовпчики.\n",
        "columns = ['price', 'area', 'bedrooms', 'bathrooms']\n"
      ],
      "metadata": {
        "id": "dxhenQHu-KIL"
      }
    },
    {
      "cell_type": "code",
      "source": [
        "import pandas as pd\n",
        "\n",
        "df = pd.read_csv('Housing.csv')\n",
        "\n",
        "selected_columns = df[['price', 'area', 'bedrooms', 'bathrooms']]\n",
        "\n",
        "print(selected_columns.head())\n",
        "\n",
        "selected_columns.to_csv('selected_housing.csv', index=False)\n"
      ],
      "metadata": {
        "colab": {
          "base_uri": "https://localhost:8080/"
        },
        "id": "IxjlSRnW-Kn_",
        "outputId": "57625b0c-56ee-4d1e-9ef1-8ad80281f28a"
      },
      "execution_count": 4,
      "outputs": [
        {
          "output_type": "stream",
          "name": "stdout",
          "text": [
            "      price  area  bedrooms  bathrooms\n",
            "0  13300000  7420         4          2\n",
            "1  12250000  8960         4          4\n",
            "2  12250000  9960         3          2\n",
            "3  12215000  7500         4          2\n",
            "4  11410000  7420         4          1\n"
          ]
        }
      ]
    },
    {
      "cell_type": "markdown",
      "source": [
        "Завдання 3: Проведіть попередній аналіз даних: вивчіть структуру даних, перевірте наявність відсутніх значень та інші особливості даних.\n",
        "Зробити це  по аналогії з попередніми роботами (визначити тип даних, перевірити наявність “-“, замінити на Nan, потім змінити тип даних на float, потім на середнє значення за стовпчиком.\n",
        "\n",
        "\n"
      ],
      "metadata": {
        "id": "kTE_Nz4n-LKO"
      }
    },
    {
      "cell_type": "code",
      "source": [
        "import pandas as pd\n",
        "import numpy as np\n",
        "\n",
        "df = pd.read_csv('Housing.csv')\n",
        "\n",
        "selected_columns = df[['price', 'area', 'bedrooms', 'bathrooms']]\n",
        "\n",
        "print(\"Загальна інформація про датасет:\")\n",
        "print(selected_columns.info())\n",
        "\n",
        "selected_columns = selected_columns.replace('-', np.nan)\n",
        "\n",
        "selected_columns = selected_columns.astype(float)\n",
        "\n",
        "selected_columns = selected_columns.fillna(selected_columns.mean())\n",
        "\n",
        "print(\"\\nПерші 5 рядків обробленого датасету:\")\n",
        "print(selected_columns.head())\n",
        "\n",
        "selected_columns.to_csv('processed_housing.csv', index=False)"
      ],
      "metadata": {
        "colab": {
          "base_uri": "https://localhost:8080/"
        },
        "id": "goDkgAPY-LRo",
        "outputId": "6a62e2d3-a113-4598-a3a2-c974eed2c76b"
      },
      "execution_count": 7,
      "outputs": [
        {
          "output_type": "stream",
          "name": "stdout",
          "text": [
            "Загальна інформація про датасет:\n",
            "<class 'pandas.core.frame.DataFrame'>\n",
            "RangeIndex: 545 entries, 0 to 544\n",
            "Data columns (total 4 columns):\n",
            " #   Column     Non-Null Count  Dtype\n",
            "---  ------     --------------  -----\n",
            " 0   price      545 non-null    int64\n",
            " 1   area       545 non-null    int64\n",
            " 2   bedrooms   545 non-null    int64\n",
            " 3   bathrooms  545 non-null    int64\n",
            "dtypes: int64(4)\n",
            "memory usage: 17.2 KB\n",
            "None\n",
            "\n",
            "Перші 5 рядків обробленого датасету:\n",
            "        price    area  bedrooms  bathrooms\n",
            "0  13300000.0  7420.0       4.0        2.0\n",
            "1  12250000.0  8960.0       4.0        4.0\n",
            "2  12250000.0  9960.0       3.0        2.0\n",
            "3  12215000.0  7500.0       4.0        2.0\n",
            "4  11410000.0  7420.0       4.0        1.0\n"
          ]
        }
      ]
    },
    {
      "cell_type": "markdown",
      "source": [
        "Завдання 4: Нормалізуйте дані перед подальшим використанням. Це може покращити швидкість навчання моделі та поліпшити її стабільність. Дані для лінійної регресії нормалізуються так, щоб їх середнє значення було близьким до 0, а стандартне відхилення - близьким до 1.\n",
        "Примітка. Для нормалізації можна використовувати стандартні функції або написати самостійно.\n",
        "\n"
      ],
      "metadata": {
        "id": "bz2yROcw-LXZ"
      }
    },
    {
      "cell_type": "code",
      "source": [
        "import pandas as pd\n",
        "from sklearn.preprocessing import StandardScaler\n",
        "\n",
        "df = pd.read_csv('Housing.csv')\n",
        "\n",
        "selected_columns = df[['price', 'area', 'bedrooms', 'bathrooms']]\n",
        "\n",
        "print(\"Загальна інформація про датасет:\")\n",
        "print(selected_columns.info())\n",
        "\n",
        "selected_columns = selected_columns.replace('-', float('nan'))\n",
        "\n",
        "selected_columns = selected_columns.astype(float)\n",
        "\n",
        "selected_columns = selected_columns.fillna(selected_columns.mean())\n",
        "\n",
        "scaler = StandardScaler()\n",
        "\n",
        "normalized_data = scaler.fit_transform(selected_columns)\n",
        "\n",
        "normalized_df = pd.DataFrame(normalized_data, columns=selected_columns.columns)\n",
        "\n",
        "print(\"\\nПерші 5 рядків нормалізованого датасету:\")\n",
        "print(normalized_df.head())"
      ],
      "metadata": {
        "colab": {
          "base_uri": "https://localhost:8080/"
        },
        "id": "EiXXzA34-LdF",
        "outputId": "b47adc2e-a473-4c51-c49f-a1a96a9fb427"
      },
      "execution_count": 8,
      "outputs": [
        {
          "output_type": "stream",
          "name": "stdout",
          "text": [
            "Загальна інформація про датасет:\n",
            "<class 'pandas.core.frame.DataFrame'>\n",
            "RangeIndex: 545 entries, 0 to 544\n",
            "Data columns (total 4 columns):\n",
            " #   Column     Non-Null Count  Dtype\n",
            "---  ------     --------------  -----\n",
            " 0   price      545 non-null    int64\n",
            " 1   area       545 non-null    int64\n",
            " 2   bedrooms   545 non-null    int64\n",
            " 3   bathrooms  545 non-null    int64\n",
            "dtypes: int64(4)\n",
            "memory usage: 17.2 KB\n",
            "None\n",
            "\n",
            "Перші 5 рядків нормалізованого датасету:\n",
            "      price      area  bedrooms  bathrooms\n",
            "0  4.566365  1.046726  1.403419   1.421812\n",
            "1  4.004484  1.757010  1.403419   5.405809\n",
            "2  4.004484  2.218232  0.047278   1.421812\n",
            "3  3.985755  1.083624  1.403419   1.421812\n",
            "4  3.554979  1.046726  1.403419  -0.570187\n"
          ]
        }
      ]
    },
    {
      "cell_type": "markdown",
      "source": [
        "Завдання 5: Розділіть дані на навчальний та тестовий набори для подальшого оцінювання моделі.\n"
      ],
      "metadata": {
        "id": "LIz-oD62-Lio"
      }
    },
    {
      "cell_type": "code",
      "source": [
        "import pandas as pd\n",
        "from sklearn.preprocessing import StandardScaler\n",
        "from sklearn.model_selection import train_test_split\n",
        "\n",
        "df = pd.read_csv('Housing.csv')\n",
        "\n",
        "selected_columns = df[['price', 'area', 'bedrooms', 'bathrooms']]\n",
        "\n",
        "selected_columns = selected_columns.replace('-', float('nan'))\n",
        "\n",
        "selected_columns = selected_columns.astype(float)\n",
        "\n",
        "selected_columns = selected_columns.fillna(selected_columns.mean())\n",
        "\n",
        "scaler = StandardScaler()\n",
        "\n",
        "normalized_data = scaler.fit_transform(selected_columns)\n",
        "\n",
        "normalized_df = pd.DataFrame(normalized_data, columns=selected_columns.columns)\n",
        "\n",
        "X = normalized_df.drop('price', axis=1)\n",
        "y = normalized_df['price']\n",
        "\n",
        "X_train, X_test, y_train, y_test = train_test_split(X, y, test_size=0.2, random_state=42)\n",
        "\n",
        "print(\"Розміри навчального набору (X_train, y_train):\", X_train.shape, y_train.shape)\n",
        "print(\"Розміри тестового набору (X_test, y_test):\", X_test.shape, y_test.shape)"
      ],
      "metadata": {
        "colab": {
          "base_uri": "https://localhost:8080/"
        },
        "id": "k_D5-0wn-LpU",
        "outputId": "2ccff379-c967-4ccf-b5b5-2f9d367755c5"
      },
      "execution_count": 9,
      "outputs": [
        {
          "output_type": "stream",
          "name": "stdout",
          "text": [
            "Розміри навчального набору (X_train, y_train): (436, 3) (436,)\n",
            "Розміри тестового набору (X_test, y_test): (109, 3) (109,)\n"
          ]
        }
      ]
    },
    {
      "cell_type": "markdown",
      "source": [
        "Завдання 6: Підготуйте дані: виберіть атрибути (площа, кількість ванних кімнат, кількість спалень) та цільову змінну (ціну на будинок)."
      ],
      "metadata": {
        "id": "FS3kq6_5-Lvf"
      }
    },
    {
      "cell_type": "code",
      "source": [
        "import pandas as pd\n",
        "from sklearn.preprocessing import StandardScaler\n",
        "from sklearn.model_selection import train_test_split\n",
        "\n",
        "df = pd.read_csv('Housing.csv')\n",
        "\n",
        "selected_columns = df[['price', 'area', 'bedrooms', 'bathrooms']]\n",
        "\n",
        "selected_columns = selected_columns.replace('-', float('nan'))\n",
        "\n",
        "selected_columns = selected_columns.astype(float)\n",
        "\n",
        "selected_columns = selected_columns.fillna(selected_columns.mean())\n",
        "\n",
        "scaler = StandardScaler()\n",
        "\n",
        "normalized_data = scaler.fit_transform(selected_columns)\n",
        "\n",
        "normalized_df = pd.DataFrame(normalized_data, columns=selected_columns.columns)\n",
        "\n",
        "features = normalized_df[['area', 'bathrooms', 'bedrooms']]\n",
        "target = normalized_df['price']\n",
        "\n",
        "X_train, X_test, y_train, y_test = train_test_split(features, target, test_size=0.2, random_state=42)\n",
        "\n",
        "print(\"Розміри навчального набору (X_train, y_train):\", X_train.shape, y_train.shape)\n",
        "print(\"Розміри тестового набору (X_test, y_test):\", X_test.shape, y_test.shape)"
      ],
      "metadata": {
        "colab": {
          "base_uri": "https://localhost:8080/"
        },
        "id": "r8uYhGmb-L2V",
        "outputId": "dfc1516f-bf4d-4a63-d794-6b44e454348e"
      },
      "execution_count": 10,
      "outputs": [
        {
          "output_type": "stream",
          "name": "stdout",
          "text": [
            "Розміри навчального набору (X_train, y_train): (436, 3) (436,)\n",
            "Розміри тестового набору (X_test, y_test): (109, 3) (109,)\n"
          ]
        }
      ]
    },
    {
      "cell_type": "markdown",
      "source": [
        "Завдання 7: Побудуйте модель лінійної регресії та навчіть її на навчальних даних.\n",
        "\n"
      ],
      "metadata": {
        "id": "rEuWZ5dS-L8P"
      }
    },
    {
      "cell_type": "code",
      "source": [
        "import pandas as pd\n",
        "from sklearn.preprocessing import StandardScaler\n",
        "from sklearn.model_selection import train_test_split\n",
        "from sklearn.linear_model import LinearRegression\n",
        "\n",
        "df = pd.read_csv('Housing.csv')\n",
        "\n",
        "selected_columns = df[['price', 'area', 'bedrooms', 'bathrooms']]\n",
        "\n",
        "selected_columns = selected_columns.replace('-', float('nan'))\n",
        "\n",
        "selected_columns = selected_columns.astype(float)\n",
        "\n",
        "selected_columns = selected_columns.fillna(selected_columns.mean())\n",
        "\n",
        "scaler = StandardScaler()\n",
        "\n",
        "normalized_data = scaler.fit_transform(selected_columns)\n",
        "\n",
        "normalized_df = pd.DataFrame(normalized_data, columns=selected_columns.columns)\n",
        "\n",
        "features = normalized_df[['area', 'bathrooms', 'bedrooms']]\n",
        "target = normalized_df['price']\n",
        "\n",
        "X_train, X_test, y_train, y_test = train_test_split(features, target, test_size=0.2, random_state=42)\n",
        "\n",
        "model = LinearRegression()\n",
        "\n",
        "model.fit(X_train, y_train)\n",
        "\n",
        "train_score = model.score(X_train, y_train)\n",
        "print(\"Оцінка моделі на навчальних даних:\", train_score)"
      ],
      "metadata": {
        "colab": {
          "base_uri": "https://localhost:8080/"
        },
        "id": "s8xij69T-MDO",
        "outputId": "bb57c9f4-9014-4e81-e76c-067dfaff2761"
      },
      "execution_count": 13,
      "outputs": [
        {
          "output_type": "stream",
          "name": "stdout",
          "text": [
            "Оцінка моделі на навчальних даних: 0.4938250491003572\n"
          ]
        }
      ]
    },
    {
      "cell_type": "markdown",
      "source": [
        "Завдання 8: Оцініть якість моделі на тестових даних, використовуючи показники, такі як середньоквадратична помилка (RMSE) та коефіцієнт детермінації (R^2).\n",
        "Потім застосуйте  крос-валідацію для підвищення якості моделі. Порівняйте результати (без крос-валідації і з крос-валідацією).\n"
      ],
      "metadata": {
        "id": "Zu0PKFJd-MJJ"
      }
    },
    {
      "cell_type": "code",
      "source": [
        "import pandas as pd\n",
        "from sklearn.preprocessing import StandardScaler\n",
        "from sklearn.model_selection import train_test_split, cross_val_score\n",
        "from sklearn.linear_model import LinearRegression\n",
        "from sklearn.metrics import mean_squared_error, r2_score\n",
        "\n",
        "df = pd.read_csv('Housing.csv')\n",
        "\n",
        "selected_columns = df[['price', 'area', 'bedrooms', 'bathrooms']]\n",
        "\n",
        "selected_columns = selected_columns.replace('-', float('nan'))\n",
        "\n",
        "selected_columns = selected_columns.astype(float)\n",
        "\n",
        "selected_columns = selected_columns.fillna(selected_columns.mean())\n",
        "\n",
        "scaler = StandardScaler()\n",
        "\n",
        "normalized_data = scaler.fit_transform(selected_columns)\n",
        "\n",
        "normalized_df = pd.DataFrame(normalized_data, columns=selected_columns.columns)\n",
        "\n",
        "features = normalized_df[['area', 'bathrooms', 'bedrooms']]\n",
        "target = normalized_df['price']\n",
        "\n",
        "X_train, X_test, y_train, y_test = train_test_split(features, target, test_size=0.2, random_state=42)\n",
        "\n",
        "model = LinearRegression()\n",
        "\n",
        "model.fit(X_train, y_train)\n",
        "\n",
        "y_pred = model.predict(X_test)\n",
        "test_rmse = mean_squared_error(y_test, y_pred, squared=False)\n",
        "test_r2 = r2_score(y_test, y_pred)\n",
        "print(\"Середньоквадратична помилка (RMSE) на тестових даних:\", test_rmse)\n",
        "print(\"Коефіцієнт детермінації (R^2) на тестових даних:\", test_r2)\n",
        "\n",
        "cv_scores = cross_val_score(model, features, target, cv=5, scoring='neg_mean_squared_error')\n",
        "cv_rmse_scores = (-cv_scores) ** 0.5\n",
        "cv_r2_scores = cross_val_score(model, features, target, cv=5, scoring='r2')\n",
        "\n",
        "print(\"\\nСереднє значення RMSE під час крос-валідації:\", cv_rmse_scores.mean())\n",
        "print(\"Середнє значення R^2 під час крос-валідації:\", cv_r2_scores.mean())"
      ],
      "metadata": {
        "colab": {
          "base_uri": "https://localhost:8080/"
        },
        "id": "7R7fn17U-MQY",
        "outputId": "10565f26-aa06-4ca1-cc18-c7ec584634bd"
      },
      "execution_count": 14,
      "outputs": [
        {
          "output_type": "stream",
          "name": "stdout",
          "text": [
            "Середньоквадратична помилка (RMSE) на тестових даних: 0.8874106823867897\n",
            "Коефіцієнт детермінації (R^2) на тестових даних: 0.4559299118872445\n",
            "\n",
            "Середнє значення RMSE під час крос-валідації: 0.8412833163569633\n",
            "Середнє значення R^2 під час крос-валідації: -13.98915818011169\n"
          ]
        }
      ]
    },
    {
      "cell_type": "markdown",
      "source": [
        "Завдання 9: Виконайте аналіз результатів та виведіть прогнозовані ціни на будинки для тестового набору даних.\n"
      ],
      "metadata": {
        "id": "s9oCz6iZ-MV3"
      }
    },
    {
      "cell_type": "code",
      "source": [
        "import pandas as pd\n",
        "from sklearn.preprocessing import StandardScaler\n",
        "from sklearn.model_selection import train_test_split, cross_val_score\n",
        "from sklearn.linear_model import LinearRegression\n",
        "from sklearn.metrics import mean_squared_error, r2_score\n",
        "\n",
        "# Зчитайте початковий датасет\n",
        "df = pd.read_csv('Housing.csv')\n",
        "\n",
        "# Виберіть лише вказані стовпці\n",
        "selected_columns = df[['price', 'area', 'bedrooms', 'bathrooms']]\n",
        "\n",
        "selected_columns = selected_columns.replace('-', float('nan'))\n",
        "\n",
        "selected_columns = selected_columns.astype(float)\n",
        "\n",
        "selected_columns = selected_columns.fillna(selected_columns.mean())\n",
        "\n",
        "scaler = StandardScaler()\n",
        "\n",
        "normalized_data = scaler.fit_transform(selected_columns)\n",
        "\n",
        "normalized_df = pd.DataFrame(normalized_data, columns=selected_columns.columns)\n",
        "\n",
        "features = normalized_df[['area', 'bathrooms', 'bedrooms']]\n",
        "target = normalized_df['price']\n",
        "\n",
        "X_train, X_test, y_train, y_test = train_test_split(features, target, test_size=0.2, random_state=42)\n",
        "\n",
        "model = LinearRegression()\n",
        "\n",
        "model.fit(X_train, y_train)\n",
        "\n",
        "y_pred_test = model.predict(X_test)\n",
        "\n",
        "predictions_df = pd.DataFrame({'Actual Price': y_test, 'Predicted Price': y_pred_test})\n",
        "\n",
        "print(predictions_df.head(10))"
      ],
      "metadata": {
        "colab": {
          "base_uri": "https://localhost:8080/"
        },
        "id": "yKPXuEJO-Mb5",
        "outputId": "34c6f147-e3e7-4ada-d56c-e0eb6b4507cf"
      },
      "execution_count": 16,
      "outputs": [
        {
          "output_type": "stream",
          "name": "stdout",
          "text": [
            "     Actual Price  Predicted Price\n",
            "316     -0.378188         0.864997\n",
            "77       1.007785         0.783166\n",
            "360     -0.565482        -0.625477\n",
            "90       0.895409        -0.255254\n",
            "493     -1.052446        -0.447516\n",
            "209      0.071316         0.062719\n",
            "176      0.258610         0.395481\n",
            "249     -0.119723         0.696767\n",
            "516     -1.239739        -0.773372\n",
            "426     -0.756522        -0.680450\n"
          ]
        }
      ]
    },
    {
      "cell_type": "markdown",
      "source": [
        "ЧАСТИНА 2"
      ],
      "metadata": {
        "id": "oRZnmWZu0MGv"
      }
    },
    {
      "cell_type": "markdown",
      "source": [
        "Завдання 1: Визначте аналітично коефіцієнти лінійної регресії (ваги моделі) для цієї задачі, використовуючи формулу для спрощеного аналітичного рішення лінійної регресії."
      ],
      "metadata": {
        "id": "Xsusylvo0FCF"
      }
    },
    {
      "cell_type": "code",
      "source": [
        "import numpy as np\n",
        "\n",
        "X_with_bias = np.column_stack((np.ones(len(X_train)), X_train))\n",
        "\n",
        "y_train_vector = y_train.values.reshape(-1, 1)\n",
        "\n",
        "theta = np.linalg.inv(X_with_bias.T.dot(X_with_bias)).dot(X_with_bias.T).dot(y_train_vector)\n",
        "\n",
        "print(\"Коефіцієнти лінійної регресії (ваги моделі):\")\n",
        "print(theta)"
      ],
      "metadata": {
        "colab": {
          "base_uri": "https://localhost:8080/"
        },
        "id": "VUAHeNr20H3y",
        "outputId": "1d180488-2ee2-4be9-c20d-a0e056bc24f5"
      },
      "execution_count": 17,
      "outputs": [
        {
          "output_type": "stream",
          "name": "stdout",
          "text": [
            "Коефіцієнти лінійної регресії (ваги моделі):\n",
            "[[-0.01628175]\n",
            " [ 0.40082084]\n",
            " [ 0.38208794]\n",
            " [ 0.14213176]]\n"
          ]
        }
      ]
    },
    {
      "cell_type": "markdown",
      "source": [
        "ЧАСТИНА 3"
      ],
      "metadata": {
        "id": "rwrtqOpf0bd-"
      }
    },
    {
      "cell_type": "markdown",
      "source": [
        "Завдання 1: Візуалізуйте дані та результати регресії: побудуйте графіки для ознайомлення з розподілом даних і лінійною регресійною моделлю."
      ],
      "metadata": {
        "id": "SyNNILKq0IKp"
      }
    },
    {
      "cell_type": "code",
      "source": [
        "import matplotlib.pyplot as plt\n",
        "\n",
        "plt.figure(figsize=(12, 6))\n",
        "\n",
        "plt.subplot(1, 2, 1)\n",
        "plt.scatter(X_train['area'], y_train, color='blue', alpha=0.6)\n",
        "plt.title('Розподіл даних: Площа vs. Ціна')\n",
        "plt.xlabel('Площа')\n",
        "plt.ylabel('Ціна')\n",
        "\n",
        "plt.subplot(1, 2, 2)\n",
        "plt.scatter(X_train['area'], y_train, color='blue', alpha=0.6, label='Дані')\n",
        "plt.plot(X_train['area'], X_with_bias.dot(theta), color='red', linewidth=2, label='Лінійна регресія')\n",
        "plt.title('Результати регресії: Площа vs. Ціна')\n",
        "plt.xlabel('Площа')\n",
        "plt.ylabel('Ціна')\n",
        "plt.legend()\n",
        "\n",
        "plt.tight_layout()\n",
        "plt.show()"
      ],
      "metadata": {
        "colab": {
          "base_uri": "https://localhost:8080/",
          "height": 607
        },
        "id": "_IOTYE-00ISu",
        "outputId": "07c3a017-3a64-4136-aa27-344ae1f36eb2"
      },
      "execution_count": 18,
      "outputs": [
        {
          "output_type": "display_data",
          "data": {
            "text/plain": [
              "<Figure size 1200x600 with 2 Axes>"
            ],
            "image/png": "[encoded data removed]"
          },
          "metadata": {}
        }
      ]
    },
    {
      "cell_type": "markdown",
      "source": [
        "Завдання 2: Порівняйте отримані параметри (коефіцієнти) лінійної регресії з аналітичними результатами та оцініть, наскільки схожі вони."
      ],
      "metadata": {
        "id": "BxFNGp_j0IZ9"
      }
    },
    {
      "cell_type": "code",
      "source": [
        "# Отримайте коефіцієнти лінійної регресії за допомогою нормального рівняння\n",
        "theta_analytical = np.linalg.inv(X_with_bias.T.dot(X_with_bias)).dot(X_with_bias.T).dot(y_train_vector)\n",
        "\n",
        "# Виведіть обидва набори коефіцієнтів\n",
        "print(\"Коефіцієнти лінійної регресії (ваги моделі) за допомогою нормального рівняння:\")\n",
        "print(theta_analytical)\n",
        "\n",
        "print(\"\\nКоефіцієнти лінійної регресії (ваги моделі) за допомогою бібліотеки sklearn:\")\n",
        "print(theta)"
      ],
      "metadata": {
        "colab": {
          "base_uri": "https://localhost:8080/"
        },
        "id": "0pEAPzUM0IiA",
        "outputId": "10ad7712-cebb-4fba-ef85-6b91b36fc53f"
      },
      "execution_count": 19,
      "outputs": [
        {
          "output_type": "stream",
          "name": "stdout",
          "text": [
            "Коефіцієнти лінійної регресії (ваги моделі) за допомогою нормального рівняння:\n",
            "[[-0.01628175]\n",
            " [ 0.40082084]\n",
            " [ 0.38208794]\n",
            " [ 0.14213176]]\n",
            "\n",
            "Коефіцієнти лінійної регресії (ваги моделі) за допомогою бібліотеки sklearn:\n",
            "[[-0.01628175]\n",
            " [ 0.40082084]\n",
            " [ 0.38208794]\n",
            " [ 0.14213176]]\n"
          ]
        }
      ]
    },
    {
      "cell_type": "markdown",
      "source": [
        "Завдання 3: Зробіть висновки щодо ефективності лінійної регресії у прогнозуванні цін на будинок на основі вказаних атрибутів та порівняння з аналітичним рішенням."
      ],
      "metadata": {
        "id": "VKd_mkCH0Ipt"
      }
    },
    {
      "cell_type": "markdown",
      "source": [
        "На основі реалізації лінійної регресії та порівняння з аналітичним рішенням можна зробити такі висновки щодо ефективності лінійної регресії у прогнозуванні цін на будинок на основі вказаних атрибутів:\n",
        "\n",
        "Аналітичні результати: Отримані коефіцієнти лінійної регресії за допомогою аналітичного рішення та бібліотеки scikit-learn (sklearn) були подібні або дуже схожі. Це свідчить про правильність і консистентність обидвох методів для визначення параметрів моделі.\n",
        "\n",
        "Побудова моделі: Лінійна регресія є простою та широко використовуваною моделлю для задач регресії. У цьому випадку вона була використана для прогнозування цін на будинок на основі площі, кількості ванних кімнат і кількості спалень.\n",
        "\n",
        "Загалом, ефективність лінійної регресії у прогнозуванні цін на будинок залежатиме від специфіки даних та вибраних ознак. Важливо також враховувати можливість наявності нелинійних залежностей у даних. У деяких випадках, коли не вдається задовільно пояснити залежність між ознаками та ціною за допомогою лінійної моделі, може бути необхідно розглянути більш складні моделі, такі як поліноміальна регресія або моделі машинного навчання."
      ],
      "metadata": {
        "id": "H2autgz_3wrS"
      }
    }
  ]
}